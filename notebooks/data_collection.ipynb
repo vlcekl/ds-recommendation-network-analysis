{
 "cells": [
  {
   "cell_type": "markdown",
   "metadata": {},
   "source": [
    "# Acquiring data - Web scraping\n",
    "\n",
    "## 1. Download archives with Wikipedia citation records"
   ]
  },
  {
   "cell_type": "code",
   "execution_count": 1,
   "metadata": {
    "collapsed": true
   },
   "outputs": [],
   "source": [
    "import sys\n",
    "import os\n",
    "import re\n",
    "import numpy as np\n",
    "import pandas as pd\n",
    "import matplotlib.pyplot as plt\n",
    "import seaborn as sns\n",
    "%matplotlib inline"
   ]
  },
  {
   "cell_type": "code",
   "execution_count": 2,
   "metadata": {
    "collapsed": true
   },
   "outputs": [],
   "source": [
    "import requests\n",
    "import bs4"
   ]
  },
  {
   "cell_type": "code",
   "execution_count": 3,
   "metadata": {},
   "outputs": [],
   "source": [
    "baseurl = 'https://analytics.wikimedia.org/datasets/archive/public-datasets/all/mwrefs/mwcites-20180301'\n",
    "res = requests.get(baseurl)"
   ]
  },
  {
   "cell_type": "code",
   "execution_count": 4,
   "metadata": {},
   "outputs": [
    {
     "data": {
      "text/plain": [
       "True"
      ]
     },
     "execution_count": 4,
     "metadata": {},
     "output_type": "execute_result"
    }
   ],
   "source": [
    "res.status_code == requests.codes.ok"
   ]
  },
  {
   "cell_type": "code",
   "execution_count": 5,
   "metadata": {},
   "outputs": [],
   "source": [
    "basepage = bs4.BeautifulSoup(res.text, \"lxml\")"
   ]
  },
  {
   "cell_type": "code",
   "execution_count": 6,
   "metadata": {
    "collapsed": true
   },
   "outputs": [],
   "source": [
    "target_dir = '../data/raw'\n",
    "os.makedirs(target_dir, exist_ok=True)"
   ]
  },
  {
   "cell_type": "markdown",
   "metadata": {},
   "source": [
    "Download and save gzipped tar files from the base page"
   ]
  },
  {
   "cell_type": "code",
   "execution_count": 8,
   "metadata": {},
   "outputs": [],
   "source": [
    "for fname in basepage.find_all(text=re.compile('gz$')):\n",
    "    #print('file:', fname)\n",
    "    url = baseurl + '/' + fname\n",
    "    res = requests.get(url)\n",
    "    res.raise_for_status()\n",
    "    \n",
    "    # save tarbal to arachive\n",
    "    with open(os.path.join(target_dir, fname), 'wb') as fo:\n",
    "        for chunk in res.iter_content(100000):\n",
    "            fo.write(chunk)"
   ]
  },
  {
   "cell_type": "markdown",
   "metadata": {},
   "source": [
    "Untar the archives to target directory (/data/raw)"
   ]
  },
  {
   "cell_type": "code",
   "execution_count": null,
   "metadata": {
    "collapsed": true
   },
   "outputs": [],
   "source": [
    "import tarfile\n",
    "\n",
    "for fname in basepage.find_all(text=re.compile('gz$')):\n",
    "    tar = tarfile.open(os.path.join(target_dir, fname))\n",
    "    tar.extractall(path=target_dir)\n",
    "    tar.close()"
   ]
  },
  {
   "cell_type": "markdown",
   "metadata": {},
   "source": [
    "## 2. Categorization of Wikipedia pages based on their description"
   ]
  },
  {
   "cell_type": "code",
   "execution_count": 9,
   "metadata": {
    "collapsed": true
   },
   "outputs": [],
   "source": [
    "base_path = '../data/raw'\n",
    "processed_path = '../data/processed'"
   ]
  },
  {
   "cell_type": "code",
   "execution_count": 10,
   "metadata": {},
   "outputs": [
    {
     "data": {
      "text/html": [
       "<div>\n",
       "<style scoped>\n",
       "    .dataframe tbody tr th:only-of-type {\n",
       "        vertical-align: middle;\n",
       "    }\n",
       "\n",
       "    .dataframe tbody tr th {\n",
       "        vertical-align: top;\n",
       "    }\n",
       "\n",
       "    .dataframe thead th {\n",
       "        text-align: right;\n",
       "    }\n",
       "</style>\n",
       "<table border=\"1\" class=\"dataframe\">\n",
       "  <thead>\n",
       "    <tr style=\"text-align: right;\">\n",
       "      <th></th>\n",
       "      <th>page_id</th>\n",
       "      <th>page_title</th>\n",
       "      <th>rev_id</th>\n",
       "      <th>timestamp</th>\n",
       "      <th>type</th>\n",
       "      <th>id</th>\n",
       "    </tr>\n",
       "  </thead>\n",
       "  <tbody>\n",
       "    <tr>\n",
       "      <th>0</th>\n",
       "      <td>2867096</td>\n",
       "      <td>Mu Aquilae</td>\n",
       "      <td>503137751</td>\n",
       "      <td>2012-07-19 16:08:41</td>\n",
       "      <td>doi</td>\n",
       "      <td>10.1051/0004-6361:20078357</td>\n",
       "    </tr>\n",
       "    <tr>\n",
       "      <th>1</th>\n",
       "      <td>2867096</td>\n",
       "      <td>Mu Aquilae</td>\n",
       "      <td>508363722</td>\n",
       "      <td>2012-08-20 22:56:21</td>\n",
       "      <td>arxiv</td>\n",
       "      <td>astro-ph/0604502</td>\n",
       "    </tr>\n",
       "    <tr>\n",
       "      <th>2</th>\n",
       "      <td>2867096</td>\n",
       "      <td>Mu Aquilae</td>\n",
       "      <td>508363722</td>\n",
       "      <td>2012-08-20 22:56:21</td>\n",
       "      <td>arxiv</td>\n",
       "      <td>astro-ph/0003329</td>\n",
       "    </tr>\n",
       "    <tr>\n",
       "      <th>3</th>\n",
       "      <td>2867096</td>\n",
       "      <td>Mu Aquilae</td>\n",
       "      <td>508363722</td>\n",
       "      <td>2012-08-20 22:56:21</td>\n",
       "      <td>arxiv</td>\n",
       "      <td>0708.1752</td>\n",
       "    </tr>\n",
       "    <tr>\n",
       "      <th>4</th>\n",
       "      <td>2867096</td>\n",
       "      <td>Mu Aquilae</td>\n",
       "      <td>503137751</td>\n",
       "      <td>2012-07-19 16:08:41</td>\n",
       "      <td>doi</td>\n",
       "      <td>10.1051/0004-6361:20064946</td>\n",
       "    </tr>\n",
       "  </tbody>\n",
       "</table>\n",
       "</div>"
      ],
      "text/plain": [
       "   page_id  page_title     rev_id           timestamp   type  \\\n",
       "0  2867096  Mu Aquilae  503137751 2012-07-19 16:08:41    doi   \n",
       "1  2867096  Mu Aquilae  508363722 2012-08-20 22:56:21  arxiv   \n",
       "2  2867096  Mu Aquilae  508363722 2012-08-20 22:56:21  arxiv   \n",
       "3  2867096  Mu Aquilae  508363722 2012-08-20 22:56:21  arxiv   \n",
       "4  2867096  Mu Aquilae  503137751 2012-07-19 16:08:41    doi   \n",
       "\n",
       "                           id  \n",
       "0  10.1051/0004-6361:20078357  \n",
       "1            astro-ph/0604502  \n",
       "2            astro-ph/0003329  \n",
       "3                   0708.1752  \n",
       "4  10.1051/0004-6361:20064946  "
      ]
     },
     "execution_count": 10,
     "metadata": {},
     "output_type": "execute_result"
    }
   ],
   "source": [
    "# read TSV data\n",
    "df = pd.read_csv(os.path.join(base_path,'enwiki.tsv'), sep='\\t', parse_dates=['timestamp'],infer_datetime_format=True)\n",
    "\n",
    "# Convert mistakenly converted type nan to string 'NaN' (wikipedia page name)\n",
    "df.page_title = df.page_title.fillna(\"NaN\")\n",
    "\n",
    "df.head(5)"
   ]
  },
  {
   "cell_type": "markdown",
   "metadata": {},
   "source": [
    "Lists of unique pages and publications"
   ]
  },
  {
   "cell_type": "code",
   "execution_count": 43,
   "metadata": {
    "collapsed": true
   },
   "outputs": [],
   "source": [
    "# list of unique web page ids (web_page nodes)\n",
    "wp_ids = df.page_id.unique()\n",
    "\n",
    "# list of unique web page names\n",
    "wp_names = df.page_title.unique()\n",
    "\n",
    "# list of unique publications (publication nodes)\n",
    "pub_ids = df.id.unique()"
   ]
  },
  {
   "cell_type": "code",
   "execution_count": 73,
   "metadata": {},
   "outputs": [],
   "source": [
    "wiki_url = 'http://en.wikipedia.org'"
   ]
  },
  {
   "cell_type": "code",
   "execution_count": 97,
   "metadata": {
    "collapsed": true
   },
   "outputs": [],
   "source": [
    "r = requests.get(wiki_url+ '/?curid=' + str(wp_ids[1]))\n",
    "soup = bs4.BeautifulSoup(r.text, 'html.parser')\n",
    "cats_base = soup.select('#mw-normal-catlinks ul li a')"
   ]
  },
  {
   "cell_type": "code",
   "execution_count": 95,
   "metadata": {
    "collapsed": true
   },
   "outputs": [],
   "source": [
    "def get_cats(cat_ref):\n",
    "    r = requests.get(wiki_url+cat_ref)\n",
    "    soup = bs4.BeautifulSoup(r.text, 'html.parser')\n",
    "    cats = soup.select('#mw-normal-catlinks ul li a')\n",
    "    return cats"
   ]
  },
  {
   "cell_type": "code",
   "execution_count": 98,
   "metadata": {},
   "outputs": [
    {
     "name": "stdout",
     "output_type": "stream",
     "text": [
      "Round 0 Electronic music stubs 1\n",
      "Round 0 Electronic music 4\n",
      "Round 0 Popular music 5\n",
      "Round 0 Mass media 3\n",
      "Round 0 Communication 6\n",
      "Round 0 Behavior 5\n",
      "Round 0 Action (philosophy) 2\n",
      "Round 0 Free will 3\n",
      "Round 0 Autonomy 7\n",
      "Round 0 Forms of government 4\n",
      "Round 0 Constitutions 7\n",
      "Round 0 Constitutional law 5\n",
      "Round 0 Law 5\n",
      "Round 0 Government 9\n",
      "Round 0 Legal entities 5\n",
      "Round 0 Corporate law 5\n",
      "Round 0 Business law 4\n",
      "Round 0 Business 5\n",
      "Round 0 Economy 1\n",
      "Round 0 Society 1\n",
      "Round 0 Main topic classifications 3\n",
      "Round 0 Articles 1\n",
      "Round 0 Contents 1\n",
      "Round 1 20th-century music genres 1\n",
      "Round 1 20th century in music 2\n",
      "Round 1 20th-century works 4\n",
      "Round 1 20th century 4\n",
      "Round 1 2nd millennium 4\n",
      "Round 1 Millennia 2\n",
      "Round 1 Chronology 2\n",
      "Round 1 Fields of history 6\n",
      "Round 1 History 2\n",
      "Round 1 Main topic classifications 5\n",
      "Round 1 Articles 1\n",
      "Round 1 Contents 1\n",
      "Round 2 Techno genres 1\n",
      "Round 2 Techno 2\n",
      "Round 2 20th-century music genres 2\n",
      "Round 2 20th century in music 2\n",
      "Round 2 20th-century works 4\n",
      "Round 2 20th century 4\n",
      "Round 2 2nd millennium 4\n",
      "Round 2 Millennia 2\n",
      "Round 2 Chronology 2\n",
      "Round 2 Fields of history 6\n",
      "Round 2 History 2\n",
      "Round 2 Main topic classifications 5\n",
      "Round 2 Articles 1\n",
      "Round 2 Contents 1\n",
      "Round 3 Industrial music 1\n",
      "Round 3 Alternative rock genres 3\n",
      "Round 3 Alternative rock 3\n",
      "Round 3 20th-century music genres 3\n",
      "Round 3 20th century in music 2\n",
      "Round 3 20th-century works 4\n",
      "Round 3 20th century 4\n",
      "Round 3 2nd millennium 4\n",
      "Round 3 Millennia 2\n",
      "Round 3 Chronology 2\n",
      "Round 3 Fields of history 6\n",
      "Round 3 History 2\n",
      "Round 3 Main topic classifications 5\n",
      "Round 3 Articles 1\n",
      "Round 3 Contents 1\n",
      "Round 4 British styles of music 1\n",
      "Round 4 British music 2\n",
      "Round 4 English-language music 5\n",
      "Round 4 Music by language 2\n",
      "Round 4 Music by geographical categorization 3\n",
      "Round 4 Music 2\n",
      "Round 4 Culture 4\n",
      "Round 4 Human behavior 2\n",
      "Round 4 Behavior 4\n",
      "Round 4 Action (philosophy) 2\n",
      "Round 4 Free will 3\n",
      "Round 4 Autonomy 7\n",
      "Round 4 Forms of government 4\n",
      "Round 4 Constitutions 7\n",
      "Round 4 Constitutional law 5\n",
      "Round 4 Law 5\n",
      "Round 4 Government 9\n",
      "Round 4 Legal entities 5\n",
      "Round 4 Corporate law 5\n",
      "Round 4 Business law 4\n",
      "Round 4 Business 5\n",
      "Round 4 Economy 1\n",
      "Round 4 Society 1\n",
      "Round 4 Main topic classifications 3\n",
      "Round 4 Articles 1\n",
      "Round 4 Contents 1\n"
     ]
    }
   ],
   "source": [
    "for i in range(len(cats_base)):\n",
    "    cats = [cats_base[i]]\n",
    "    while len(cats) > 0:\n",
    "        c = cats[0]\n",
    "        print(f'Round {i}', c.get_text(), len(cats))\n",
    "        cat_ref = c.get('href')\n",
    "        cats = get_cats(cat_ref)"
   ]
  },
  {
   "cell_type": "code",
   "execution_count": 67,
   "metadata": {},
   "outputs": [
    {
     "name": "stdout",
     "output_type": "stream",
     "text": [
      "Electronic music stubs\n",
      "\n",
      " 20th-century music genres\n",
      "\n",
      " Techno genres\n",
      "\n",
      " Industrial music\n",
      "\n",
      " British styles of music\n",
      "\n",
      "\n"
     ]
    }
   ],
   "source": [
    "print(*[c.get_text() + 2*'\\n' for c in cats])"
   ]
  },
  {
   "cell_type": "code",
   "execution_count": 59,
   "metadata": {},
   "outputs": [
    {
     "data": {
      "text/plain": [
       "'Industrial techno'"
      ]
     },
     "execution_count": 59,
     "metadata": {},
     "output_type": "execute_result"
    }
   ],
   "source": [
    "wp_names[1]"
   ]
  },
  {
   "cell_type": "code",
   "execution_count": 16,
   "metadata": {
    "collapsed": true
   },
   "outputs": [],
   "source": [
    "import wikipedia"
   ]
  },
  {
   "cell_type": "code",
   "execution_count": 17,
   "metadata": {},
   "outputs": [],
   "source": []
  },
  {
   "cell_type": "code",
   "execution_count": 40,
   "metadata": {},
   "outputs": [],
   "source": [
    "#wp = wikipedia.page(pageid=wpages[0])\n",
    "wp = wikipedia.page('Aquila_(constellation)')"
   ]
  },
  {
   "cell_type": "code",
   "execution_count": 41,
   "metadata": {},
   "outputs": [
    {
     "data": {
      "text/plain": [
       "['All articles needing additional references',\n",
       " 'All articles with unsourced statements',\n",
       " 'Aquila (constellation)',\n",
       " 'Articles needing additional references from November 2009',\n",
       " 'Articles with unsourced statements from March 2011',\n",
       " 'Articles with unsourced statements from November 2015',\n",
       " 'Constellations listed by Ptolemy',\n",
       " 'Equatorial constellations',\n",
       " 'Wikipedia articles incorporating a citation from the 1911 Encyclopaedia Britannica with Wikisource reference',\n",
       " 'Wikipedia articles incorporating text from the 1911 Encyclopædia Britannica',\n",
       " 'Wikipedia articles with GND identifiers']"
      ]
     },
     "execution_count": 41,
     "metadata": {},
     "output_type": "execute_result"
    }
   ],
   "source": [
    "wp.categories"
   ]
  },
  {
   "cell_type": "code",
   "execution_count": null,
   "metadata": {},
   "outputs": [],
   "source": [
    "#for pid, name in zip(wpages, wnames):\n",
    "#    wp = wikipedia.page(pageid=pid)\n",
    "    \n",
    "    #print(name, wp.categories)"
   ]
  },
  {
   "cell_type": "code",
   "execution_count": 20,
   "metadata": {
    "collapsed": true
   },
   "outputs": [],
   "source": [
    "category_url = 'https://en.wikipedia.org/w/api.php?action=query&format=json&prop=categories&titles='"
   ]
  },
  {
   "cell_type": "code",
   "execution_count": 36,
   "metadata": {},
   "outputs": [],
   "source": [
    "url = category_url + 'Aquila_(constellation)'# wnames[1]"
   ]
  },
  {
   "cell_type": "code",
   "execution_count": 37,
   "metadata": {},
   "outputs": [],
   "source": [
    "r = requests.get(url)"
   ]
  },
  {
   "cell_type": "code",
   "execution_count": 38,
   "metadata": {},
   "outputs": [],
   "source": [
    "d = r.json()#['categories']"
   ]
  },
  {
   "cell_type": "code",
   "execution_count": 39,
   "metadata": {},
   "outputs": [
    {
     "name": "stdout",
     "output_type": "stream",
     "text": [
      "{'continue': {'clcontinue': '269002|Wikipedia_articles_with_GND_identifiers',\n",
      "              'continue': '||'},\n",
      " 'query': {'normalized': [{'from': 'Aquila_(constellation)',\n",
      "                           'to': 'Aquila (constellation)'}],\n",
      "           'pages': {'269002': {'categories': [{'ns': 14,\n",
      "                                                'title': 'Category:All '\n",
      "                                                         'articles needing '\n",
      "                                                         'additional '\n",
      "                                                         'references'},\n",
      "                                               {'ns': 14,\n",
      "                                                'title': 'Category:All '\n",
      "                                                         'articles with '\n",
      "                                                         'unsourced '\n",
      "                                                         'statements'},\n",
      "                                               {'ns': 14,\n",
      "                                                'title': 'Category:Aquila '\n",
      "                                                         '(constellation)'},\n",
      "                                               {'ns': 14,\n",
      "                                                'title': 'Category:Articles '\n",
      "                                                         'needing additional '\n",
      "                                                         'references from '\n",
      "                                                         'November 2009'},\n",
      "                                               {'ns': 14,\n",
      "                                                'title': 'Category:Articles '\n",
      "                                                         'with unsourced '\n",
      "                                                         'statements from '\n",
      "                                                         'March 2011'},\n",
      "                                               {'ns': 14,\n",
      "                                                'title': 'Category:Articles '\n",
      "                                                         'with unsourced '\n",
      "                                                         'statements from '\n",
      "                                                         'November 2015'},\n",
      "                                               {'ns': 14,\n",
      "                                                'title': 'Category:Constellations '\n",
      "                                                         'listed by Ptolemy'},\n",
      "                                               {'ns': 14,\n",
      "                                                'title': 'Category:Equatorial '\n",
      "                                                         'constellations'},\n",
      "                                               {'ns': 14,\n",
      "                                                'title': 'Category:Wikipedia '\n",
      "                                                         'articles '\n",
      "                                                         'incorporating a '\n",
      "                                                         'citation from the '\n",
      "                                                         '1911 Encyclopaedia '\n",
      "                                                         'Britannica with '\n",
      "                                                         'Wikisource '\n",
      "                                                         'reference'},\n",
      "                                               {'ns': 14,\n",
      "                                                'title': 'Category:Wikipedia '\n",
      "                                                         'articles '\n",
      "                                                         'incorporating text '\n",
      "                                                         'from the 1911 '\n",
      "                                                         'Encyclopædia '\n",
      "                                                         'Britannica'}],\n",
      "                                'ns': 0,\n",
      "                                'pageid': 269002,\n",
      "                                'title': 'Aquila (constellation)'}}}}\n"
     ]
    }
   ],
   "source": [
    "from pprint import pprint\n",
    "pprint(d)"
   ]
  },
  {
   "cell_type": "code",
   "execution_count": null,
   "metadata": {
    "collapsed": true
   },
   "outputs": [],
   "source": []
  }
 ],
 "metadata": {
  "kernelspec": {
   "display_name": "Python 3",
   "language": "python",
   "name": "python3"
  },
  "language_info": {
   "codemirror_mode": {
    "name": "ipython",
    "version": 3
   },
   "file_extension": ".py",
   "mimetype": "text/x-python",
   "name": "python",
   "nbconvert_exporter": "python",
   "pygments_lexer": "ipython3",
   "version": "3.6.1"
  }
 },
 "nbformat": 4,
 "nbformat_minor": 2
}
