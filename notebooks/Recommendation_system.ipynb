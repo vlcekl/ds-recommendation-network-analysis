{
 "cells": [
  {
   "cell_type": "markdown",
   "metadata": {},
   "source": [
    "# Publication recommendation system"
   ]
  },
  {
   "cell_type": "markdown",
   "metadata": {},
   "source": [
    "## 1. Read dataset linking wikipedia articles with publications and create a bipartite graph of the relation"
   ]
  },
  {
   "cell_type": "code",
   "execution_count": 1,
   "metadata": {
    "collapsed": true
   },
   "outputs": [],
   "source": [
    "import os\n",
    "import sys\n",
    "import numpy as np\n",
    "import pandas as pd\n",
    "import networkx as nx\n",
    "%matplotlib inline\n",
    "import matplotlib.pyplot as plt"
   ]
  },
  {
   "cell_type": "code",
   "execution_count": 2,
   "metadata": {
    "collapsed": true
   },
   "outputs": [],
   "source": [
    "%load_ext autoreload\n",
    "%autoreload 2"
   ]
  },
  {
   "cell_type": "markdown",
   "metadata": {},
   "source": [
    "### Read wikipedia references from a TSV file"
   ]
  },
  {
   "cell_type": "code",
   "execution_count": 4,
   "metadata": {
    "collapsed": true
   },
   "outputs": [],
   "source": [
    "base_path = '../data/raw'\n",
    "processed_path = '../data/processed'"
   ]
  },
  {
   "cell_type": "code",
   "execution_count": 5,
   "metadata": {},
   "outputs": [
    {
     "data": {
      "text/html": [
       "<div>\n",
       "<style scoped>\n",
       "    .dataframe tbody tr th:only-of-type {\n",
       "        vertical-align: middle;\n",
       "    }\n",
       "\n",
       "    .dataframe tbody tr th {\n",
       "        vertical-align: top;\n",
       "    }\n",
       "\n",
       "    .dataframe thead th {\n",
       "        text-align: right;\n",
       "    }\n",
       "</style>\n",
       "<table border=\"1\" class=\"dataframe\">\n",
       "  <thead>\n",
       "    <tr style=\"text-align: right;\">\n",
       "      <th></th>\n",
       "      <th>page_id</th>\n",
       "      <th>page_title</th>\n",
       "      <th>rev_id</th>\n",
       "      <th>timestamp</th>\n",
       "      <th>type</th>\n",
       "      <th>id</th>\n",
       "    </tr>\n",
       "  </thead>\n",
       "  <tbody>\n",
       "    <tr>\n",
       "      <th>0</th>\n",
       "      <td>2867096</td>\n",
       "      <td>Mu Aquilae</td>\n",
       "      <td>503137751</td>\n",
       "      <td>2012-07-19 16:08:41</td>\n",
       "      <td>doi</td>\n",
       "      <td>10.1051/0004-6361:20078357</td>\n",
       "    </tr>\n",
       "    <tr>\n",
       "      <th>1</th>\n",
       "      <td>2867096</td>\n",
       "      <td>Mu Aquilae</td>\n",
       "      <td>508363722</td>\n",
       "      <td>2012-08-20 22:56:21</td>\n",
       "      <td>arxiv</td>\n",
       "      <td>astro-ph/0604502</td>\n",
       "    </tr>\n",
       "    <tr>\n",
       "      <th>2</th>\n",
       "      <td>2867096</td>\n",
       "      <td>Mu Aquilae</td>\n",
       "      <td>508363722</td>\n",
       "      <td>2012-08-20 22:56:21</td>\n",
       "      <td>arxiv</td>\n",
       "      <td>astro-ph/0003329</td>\n",
       "    </tr>\n",
       "    <tr>\n",
       "      <th>3</th>\n",
       "      <td>2867096</td>\n",
       "      <td>Mu Aquilae</td>\n",
       "      <td>508363722</td>\n",
       "      <td>2012-08-20 22:56:21</td>\n",
       "      <td>arxiv</td>\n",
       "      <td>0708.1752</td>\n",
       "    </tr>\n",
       "    <tr>\n",
       "      <th>4</th>\n",
       "      <td>2867096</td>\n",
       "      <td>Mu Aquilae</td>\n",
       "      <td>503137751</td>\n",
       "      <td>2012-07-19 16:08:41</td>\n",
       "      <td>doi</td>\n",
       "      <td>10.1051/0004-6361:20064946</td>\n",
       "    </tr>\n",
       "  </tbody>\n",
       "</table>\n",
       "</div>"
      ],
      "text/plain": [
       "   page_id  page_title     rev_id           timestamp   type  \\\n",
       "0  2867096  Mu Aquilae  503137751 2012-07-19 16:08:41    doi   \n",
       "1  2867096  Mu Aquilae  508363722 2012-08-20 22:56:21  arxiv   \n",
       "2  2867096  Mu Aquilae  508363722 2012-08-20 22:56:21  arxiv   \n",
       "3  2867096  Mu Aquilae  508363722 2012-08-20 22:56:21  arxiv   \n",
       "4  2867096  Mu Aquilae  503137751 2012-07-19 16:08:41    doi   \n",
       "\n",
       "                           id  \n",
       "0  10.1051/0004-6361:20078357  \n",
       "1            astro-ph/0604502  \n",
       "2            astro-ph/0003329  \n",
       "3                   0708.1752  \n",
       "4  10.1051/0004-6361:20064946  "
      ]
     },
     "execution_count": 5,
     "metadata": {},
     "output_type": "execute_result"
    }
   ],
   "source": [
    "# read TSV data\n",
    "df = pd.read_csv(os.path.join(base_path,'enwiki.tsv'), sep='\\t', parse_dates=['timestamp'],infer_datetime_format=True)\n",
    "\n",
    "# Convert mistakenly converted type nan to string 'NaN' (wikipedia page name)\n",
    "df.page_title = df.page_title.fillna(\"NaN\")\n",
    "\n",
    "df.head(5)"
   ]
  },
  {
   "cell_type": "code",
   "execution_count": 6,
   "metadata": {},
   "outputs": [
    {
     "data": {
      "text/html": [
       "<div>\n",
       "<style scoped>\n",
       "    .dataframe tbody tr th:only-of-type {\n",
       "        vertical-align: middle;\n",
       "    }\n",
       "\n",
       "    .dataframe tbody tr th {\n",
       "        vertical-align: top;\n",
       "    }\n",
       "\n",
       "    .dataframe thead th {\n",
       "        text-align: right;\n",
       "    }\n",
       "</style>\n",
       "<table border=\"1\" class=\"dataframe\">\n",
       "  <thead>\n",
       "    <tr style=\"text-align: right;\">\n",
       "      <th></th>\n",
       "      <th>page_id</th>\n",
       "      <th>page_title</th>\n",
       "      <th>rev_id</th>\n",
       "      <th>timestamp</th>\n",
       "      <th>type</th>\n",
       "      <th>id</th>\n",
       "    </tr>\n",
       "  </thead>\n",
       "  <tbody>\n",
       "    <tr>\n",
       "      <th>1377870</th>\n",
       "      <td>19555312</td>\n",
       "      <td>Lager</td>\n",
       "      <td>679306283</td>\n",
       "      <td>2015-09-03 19:19:28</td>\n",
       "      <td>isbn</td>\n",
       "      <td>9780984075614</td>\n",
       "    </tr>\n",
       "    <tr>\n",
       "      <th>1377871</th>\n",
       "      <td>19555312</td>\n",
       "      <td>Lager</td>\n",
       "      <td>30671727</td>\n",
       "      <td>2005-12-09 03:28:04</td>\n",
       "      <td>isbn</td>\n",
       "      <td>0195154797</td>\n",
       "    </tr>\n",
       "    <tr>\n",
       "      <th>1377872</th>\n",
       "      <td>19555312</td>\n",
       "      <td>Lager</td>\n",
       "      <td>679305035</td>\n",
       "      <td>2015-09-03 19:12:13</td>\n",
       "      <td>isbn</td>\n",
       "      <td>0761184988</td>\n",
       "    </tr>\n",
       "    <tr>\n",
       "      <th>1377873</th>\n",
       "      <td>19555312</td>\n",
       "      <td>Lager</td>\n",
       "      <td>771614071</td>\n",
       "      <td>2017-03-22 15:31:18</td>\n",
       "      <td>doi</td>\n",
       "      <td>10.1073/pnas.1105430108</td>\n",
       "    </tr>\n",
       "  </tbody>\n",
       "</table>\n",
       "</div>"
      ],
      "text/plain": [
       "          page_id page_title     rev_id           timestamp  type  \\\n",
       "1377870  19555312      Lager  679306283 2015-09-03 19:19:28  isbn   \n",
       "1377871  19555312      Lager   30671727 2005-12-09 03:28:04  isbn   \n",
       "1377872  19555312      Lager  679305035 2015-09-03 19:12:13  isbn   \n",
       "1377873  19555312      Lager  771614071 2017-03-22 15:31:18   doi   \n",
       "\n",
       "                              id  \n",
       "1377870            9780984075614  \n",
       "1377871               0195154797  \n",
       "1377872               0761184988  \n",
       "1377873  10.1073/pnas.1105430108  "
      ]
     },
     "execution_count": 6,
     "metadata": {},
     "output_type": "execute_result"
    }
   ],
   "source": [
    "book_title = 'Designing Great Beers: The Ultimate Guide to Brewing Classic Beer Styles'\n",
    "df[df.page_title == 'Lager']\n",
    "#df[df.id == '9781491957660']"
   ]
  },
  {
   "cell_type": "code",
   "execution_count": 39,
   "metadata": {},
   "outputs": [
    {
     "data": {
      "text/html": [
       "<div>\n",
       "<style scoped>\n",
       "    .dataframe tbody tr th:only-of-type {\n",
       "        vertical-align: middle;\n",
       "    }\n",
       "\n",
       "    .dataframe tbody tr th {\n",
       "        vertical-align: top;\n",
       "    }\n",
       "\n",
       "    .dataframe thead th {\n",
       "        text-align: right;\n",
       "    }\n",
       "</style>\n",
       "<table border=\"1\" class=\"dataframe\">\n",
       "  <thead>\n",
       "    <tr style=\"text-align: right;\">\n",
       "      <th></th>\n",
       "      <th>page_id</th>\n",
       "      <th>page_title</th>\n",
       "      <th>rev_id</th>\n",
       "      <th>timestamp</th>\n",
       "      <th>type</th>\n",
       "      <th>id</th>\n",
       "    </tr>\n",
       "  </thead>\n",
       "  <tbody>\n",
       "    <tr>\n",
       "      <th>270399</th>\n",
       "      <td>6284586</td>\n",
       "      <td>Winnie the Pooh and Christmas Too</td>\n",
       "      <td>450818249</td>\n",
       "      <td>2011-09-16 15:10:40</td>\n",
       "      <td>isbn</td>\n",
       "      <td>0760756341</td>\n",
       "    </tr>\n",
       "    <tr>\n",
       "      <th>3647176</th>\n",
       "      <td>1495388</td>\n",
       "      <td>The Many Adventures of Winnie the Pooh</td>\n",
       "      <td>264717192</td>\n",
       "      <td>2009-01-17 19:13:13</td>\n",
       "      <td>isbn</td>\n",
       "      <td>0025839004</td>\n",
       "    </tr>\n",
       "    <tr>\n",
       "      <th>3647177</th>\n",
       "      <td>1495388</td>\n",
       "      <td>The Many Adventures of Winnie the Pooh</td>\n",
       "      <td>268524905</td>\n",
       "      <td>2009-02-04 19:11:37</td>\n",
       "      <td>isbn</td>\n",
       "      <td>157806712X</td>\n",
       "    </tr>\n",
       "    <tr>\n",
       "      <th>3647178</th>\n",
       "      <td>1495388</td>\n",
       "      <td>The Many Adventures of Winnie the Pooh</td>\n",
       "      <td>264336692</td>\n",
       "      <td>2009-01-15 22:04:53</td>\n",
       "      <td>isbn</td>\n",
       "      <td>0452259932</td>\n",
       "    </tr>\n",
       "    <tr>\n",
       "      <th>3647179</th>\n",
       "      <td>1495388</td>\n",
       "      <td>The Many Adventures of Winnie the Pooh</td>\n",
       "      <td>268524905</td>\n",
       "      <td>2009-02-04 19:11:37</td>\n",
       "      <td>isbn</td>\n",
       "      <td>0896592324</td>\n",
       "    </tr>\n",
       "  </tbody>\n",
       "</table>\n",
       "</div>"
      ],
      "text/plain": [
       "         page_id                              page_title     rev_id  \\\n",
       "270399   6284586       Winnie the Pooh and Christmas Too  450818249   \n",
       "3647176  1495388  The Many Adventures of Winnie the Pooh  264717192   \n",
       "3647177  1495388  The Many Adventures of Winnie the Pooh  268524905   \n",
       "3647178  1495388  The Many Adventures of Winnie the Pooh  264336692   \n",
       "3647179  1495388  The Many Adventures of Winnie the Pooh  268524905   \n",
       "\n",
       "                  timestamp  type          id  \n",
       "270399  2011-09-16 15:10:40  isbn  0760756341  \n",
       "3647176 2009-01-17 19:13:13  isbn  0025839004  \n",
       "3647177 2009-02-04 19:11:37  isbn  157806712X  \n",
       "3647178 2009-01-15 22:04:53  isbn  0452259932  \n",
       "3647179 2009-02-04 19:11:37  isbn  0896592324  "
      ]
     },
     "execution_count": 39,
     "metadata": {},
     "output_type": "execute_result"
    }
   ],
   "source": [
    "book_title = 'winnie the pooh'\n",
    "df[df.page_title.str.contains(book_title, case=False)]"
   ]
  },
  {
   "cell_type": "markdown",
   "metadata": {},
   "source": [
    "### Create a directed bipartite graph of references from wikipedia pages to publications"
   ]
  },
  {
   "cell_type": "markdown",
   "metadata": {},
   "source": [
    "**Create a bipartite graph connecting wiki pages and publications**"
   ]
  },
  {
   "cell_type": "code",
   "execution_count": 43,
   "metadata": {
    "collapsed": true
   },
   "outputs": [],
   "source": [
    "# import the project module containing functions for reading data from wikipedia\n",
    "# and working with the graph-based recommendation system\n",
    "sys.path.append('../src')\n",
    "from recomm.graph_rank import GraphRank"
   ]
  },
  {
   "cell_type": "markdown",
   "metadata": {},
   "source": [
    "Create a GraphRank object - a graph-based model for publication recommendation."
   ]
  },
  {
   "cell_type": "code",
   "execution_count": 44,
   "metadata": {
    "collapsed": true
   },
   "outputs": [],
   "source": [
    "gr = GraphRank()"
   ]
  },
  {
   "cell_type": "code",
   "execution_count": 45,
   "metadata": {},
   "outputs": [],
   "source": [
    "gr.build_graph(df, 'page_title', 'page_id', 'type', 'id')"
   ]
  },
  {
   "cell_type": "code",
   "execution_count": 46,
   "metadata": {},
   "outputs": [
    {
     "data": {
      "text/plain": [
       "{'address': '/wiki/Lager',\n",
       " 'bipartite': 'web_page',\n",
       " 'depth': 0,\n",
       " 'pid': 19555312,\n",
       " 'ptype': 'topic'}"
      ]
     },
     "execution_count": 46,
     "metadata": {},
     "output_type": "execute_result"
    }
   ],
   "source": [
    "gr.G.node['Lager']"
   ]
  },
  {
   "cell_type": "markdown",
   "metadata": {},
   "source": [
    "** Tests of the recommendation system**"
   ]
  },
  {
   "cell_type": "code",
   "execution_count": null,
   "metadata": {},
   "outputs": [
    {
     "name": "stdout",
     "output_type": "stream",
     "text": [
      "Original publication: ('isbn', '0025839004') \n",
      "Title: Forbidden \n",
      "\n",
      "\n",
      "7 pages referring to the publication:\n",
      " ['Time Cat: The Remarkable Journeys of Jason and Gareth', 'Genevieve Foster', 'Jean Ingelow', 'The Chronicles of Prydain', 'Padraic Colum', 'The Princess and the Goblin', 'The Many Adventures of Winnie the Pooh'] \n",
      "\n",
      "\n",
      "Rank: 1 \n",
      "Citations: 1\n",
      "ID: ('isbn', '0826415164')\n",
      "Source: https://isbnsearch.org/isbn/0826415164\n",
      "Title: Forbidden \n",
      "\n",
      "Rank: 2 \n",
      "Citations: 1\n",
      "ID: ('isbn', '0395653800')\n",
      "Source: https://isbnsearch.org/isbn/0395653800\n",
      "Title: Forbidden \n",
      "\n",
      "Rank: 3 \n",
      "Citations: 1\n",
      "ID: ('isbn', '157806712X')\n",
      "Source: https://isbnsearch.org/isbn/157806712X\n",
      "Title: Forbidden \n",
      "\n",
      "Rank: 4 \n",
      "Citations: 1\n",
      "ID: ('isbn', '0452259932')\n",
      "Source: https://isbnsearch.org/isbn/0452259932\n",
      "Title: Forbidden \n",
      "\n",
      "Rank: 5 \n",
      "Citations: 1\n",
      "ID: ('isbn', '0896592324')\n",
      "Source: https://isbnsearch.org/isbn/0896592324\n",
      "Title: Forbidden \n",
      "\n",
      "Number of categories: 107\n"
     ]
    }
   ],
   "source": [
    "gr.find_most_relevant(('isbn','0025839004'), 10)"
   ]
  },
  {
   "cell_type": "code",
   "execution_count": null,
   "metadata": {
    "collapsed": true
   },
   "outputs": [],
   "source": [
    "gr.find_most_relevant(('doi', '10.1021/j100308a038'), 10)"
   ]
  }
 ],
 "metadata": {
  "kernelspec": {
   "display_name": "Python 3",
   "language": "python",
   "name": "python3"
  },
  "language_info": {
   "codemirror_mode": {
    "name": "ipython",
    "version": 3
   },
   "file_extension": ".py",
   "mimetype": "text/x-python",
   "name": "python",
   "nbconvert_exporter": "python",
   "pygments_lexer": "ipython3",
   "version": "3.6.1"
  }
 },
 "nbformat": 4,
 "nbformat_minor": 2
}
