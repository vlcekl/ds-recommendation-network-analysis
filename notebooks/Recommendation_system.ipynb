{
 "cells": [
  {
   "cell_type": "markdown",
   "metadata": {},
   "source": [
    "# Publication recommendation system\n",
    "\n",
    "*Lukas Vlcek*\n",
    "\n",
    "In this notebook we read a previously downloaded dataset of Wikipedia publication references into a pandas dataframe.\n",
    "Subsequently, we build a bipartite directed graph of the publication-web page relations using the core module of the recommendation system (stored in the project src directory). Finally we test the system on two examples of publications and evaluate the relevance of the recommended literature and discuss further possibilities to improve the model."
   ]
  },
  {
   "cell_type": "markdown",
   "metadata": {},
   "source": [
    "## 1. Read dataset linking wikipedia articles with publications "
   ]
  },
  {
   "cell_type": "code",
   "execution_count": 1,
   "metadata": {
    "collapsed": true
   },
   "outputs": [],
   "source": [
    "import os\n",
    "import sys\n",
    "import numpy as np\n",
    "import pandas as pd\n",
    "import networkx as nx\n",
    "%matplotlib inline\n",
    "import matplotlib.pyplot as plt"
   ]
  },
  {
   "cell_type": "code",
   "execution_count": 2,
   "metadata": {
    "collapsed": true
   },
   "outputs": [],
   "source": [
    "%load_ext autoreload\n",
    "%autoreload 2"
   ]
  },
  {
   "cell_type": "markdown",
   "metadata": {},
   "source": [
    "### Read wikipedia references from a TSV file"
   ]
  },
  {
   "cell_type": "code",
   "execution_count": 3,
   "metadata": {
    "collapsed": true
   },
   "outputs": [],
   "source": [
    "base_path = '../data/raw'\n",
    "processed_path = '../data/processed'"
   ]
  },
  {
   "cell_type": "code",
   "execution_count": 4,
   "metadata": {},
   "outputs": [
    {
     "data": {
      "text/html": [
       "<div>\n",
       "<style scoped>\n",
       "    .dataframe tbody tr th:only-of-type {\n",
       "        vertical-align: middle;\n",
       "    }\n",
       "\n",
       "    .dataframe tbody tr th {\n",
       "        vertical-align: top;\n",
       "    }\n",
       "\n",
       "    .dataframe thead th {\n",
       "        text-align: right;\n",
       "    }\n",
       "</style>\n",
       "<table border=\"1\" class=\"dataframe\">\n",
       "  <thead>\n",
       "    <tr style=\"text-align: right;\">\n",
       "      <th></th>\n",
       "      <th>page_id</th>\n",
       "      <th>page_title</th>\n",
       "      <th>rev_id</th>\n",
       "      <th>timestamp</th>\n",
       "      <th>type</th>\n",
       "      <th>id</th>\n",
       "    </tr>\n",
       "  </thead>\n",
       "  <tbody>\n",
       "    <tr>\n",
       "      <th>0</th>\n",
       "      <td>2867096</td>\n",
       "      <td>Mu Aquilae</td>\n",
       "      <td>503137751</td>\n",
       "      <td>2012-07-19 16:08:41</td>\n",
       "      <td>doi</td>\n",
       "      <td>10.1051/0004-6361:20078357</td>\n",
       "    </tr>\n",
       "    <tr>\n",
       "      <th>1</th>\n",
       "      <td>2867096</td>\n",
       "      <td>Mu Aquilae</td>\n",
       "      <td>508363722</td>\n",
       "      <td>2012-08-20 22:56:21</td>\n",
       "      <td>arxiv</td>\n",
       "      <td>astro-ph/0604502</td>\n",
       "    </tr>\n",
       "    <tr>\n",
       "      <th>2</th>\n",
       "      <td>2867096</td>\n",
       "      <td>Mu Aquilae</td>\n",
       "      <td>508363722</td>\n",
       "      <td>2012-08-20 22:56:21</td>\n",
       "      <td>arxiv</td>\n",
       "      <td>astro-ph/0003329</td>\n",
       "    </tr>\n",
       "    <tr>\n",
       "      <th>3</th>\n",
       "      <td>2867096</td>\n",
       "      <td>Mu Aquilae</td>\n",
       "      <td>508363722</td>\n",
       "      <td>2012-08-20 22:56:21</td>\n",
       "      <td>arxiv</td>\n",
       "      <td>0708.1752</td>\n",
       "    </tr>\n",
       "    <tr>\n",
       "      <th>4</th>\n",
       "      <td>2867096</td>\n",
       "      <td>Mu Aquilae</td>\n",
       "      <td>503137751</td>\n",
       "      <td>2012-07-19 16:08:41</td>\n",
       "      <td>doi</td>\n",
       "      <td>10.1051/0004-6361:20064946</td>\n",
       "    </tr>\n",
       "  </tbody>\n",
       "</table>\n",
       "</div>"
      ],
      "text/plain": [
       "   page_id  page_title     rev_id           timestamp   type  \\\n",
       "0  2867096  Mu Aquilae  503137751 2012-07-19 16:08:41    doi   \n",
       "1  2867096  Mu Aquilae  508363722 2012-08-20 22:56:21  arxiv   \n",
       "2  2867096  Mu Aquilae  508363722 2012-08-20 22:56:21  arxiv   \n",
       "3  2867096  Mu Aquilae  508363722 2012-08-20 22:56:21  arxiv   \n",
       "4  2867096  Mu Aquilae  503137751 2012-07-19 16:08:41    doi   \n",
       "\n",
       "                           id  \n",
       "0  10.1051/0004-6361:20078357  \n",
       "1            astro-ph/0604502  \n",
       "2            astro-ph/0003329  \n",
       "3                   0708.1752  \n",
       "4  10.1051/0004-6361:20064946  "
      ]
     },
     "execution_count": 4,
     "metadata": {},
     "output_type": "execute_result"
    }
   ],
   "source": [
    "# read TSV data\n",
    "df = pd.read_csv(os.path.join(base_path,'enwiki.tsv'), sep='\\t', parse_dates=['timestamp'],infer_datetime_format=True)\n",
    "\n",
    "# Convert mistakenly converted type nan to string 'NaN' (wikipedia page name)\n",
    "df.page_title = df.page_title.fillna(\"NaN\")\n",
    "\n",
    "df.head(5)"
   ]
  },
  {
   "cell_type": "markdown",
   "metadata": {},
   "source": [
    "Add new book information to the dataframe."
   ]
  },
  {
   "cell_type": "code",
   "execution_count": 5,
   "metadata": {
    "collapsed": true
   },
   "outputs": [],
   "source": [
    "df_new = pd.DataFrame({'page_id':[19555312], 'page_title':['Lager'], 'rev_id':[0], 'timestamp':['2015-02-09 17:01:25'],'type':['isbn'],'id':['9780937381502']})"
   ]
  },
  {
   "cell_type": "code",
   "execution_count": 6,
   "metadata": {
    "collapsed": true
   },
   "outputs": [],
   "source": [
    "df = df.append(df_new, ignore_index=True)"
   ]
  },
  {
   "cell_type": "markdown",
   "metadata": {},
   "source": [
    "## 2. Create a directed bipartite graph of references from wikipedia pages to publications"
   ]
  },
  {
   "cell_type": "markdown",
   "metadata": {},
   "source": [
    "** Import the 'recomm' module containing functions for reading data from wikipedia and building the graph-based recommendation system.**"
   ]
  },
  {
   "cell_type": "code",
   "execution_count": 98,
   "metadata": {
    "collapsed": true
   },
   "outputs": [],
   "source": [
    "sys.path.append('../src')\n",
    "from recomm.graph_rank import GraphRank"
   ]
  },
  {
   "cell_type": "markdown",
   "metadata": {},
   "source": [
    "**Create a GraphRank object - a graph-based model for publication recommendation.**"
   ]
  },
  {
   "cell_type": "code",
   "execution_count": 24,
   "metadata": {
    "collapsed": true
   },
   "outputs": [],
   "source": [
    "gr = GraphRank()"
   ]
  },
  {
   "cell_type": "code",
   "execution_count": 25,
   "metadata": {
    "collapsed": true
   },
   "outputs": [],
   "source": [
    "gr.build_graph(df, 'page_title', 'page_id', 'type', 'id')"
   ]
  },
  {
   "cell_type": "markdown",
   "metadata": {},
   "source": [
    "## 3. Tests of the recommendation system\n",
    "\n",
    "### 3.1 Publications related to \"Designing Great Beers: The Ultimate Guite to Brewing Classic Beer Styles\" by Ray Daniels"
   ]
  },
  {
   "cell_type": "code",
   "execution_count": 44,
   "metadata": {},
   "outputs": [
    {
     "name": "stdout",
     "output_type": "stream",
     "text": [
      "Original publication: ('isbn', '9780937381502') \n",
      "Title: Designing Great Beers: The Ultimate Guide to Brewing Classic ... \n",
      "\n",
      "\n",
      "3 pages referring to the publication:\n",
      " ['Mash ingredients', 'India pale ale', 'Lager'] \n",
      "\n",
      "\n",
      "Number of categories for level 2 publications: 3\n",
      "Rank: 1 \n",
      "Citations: 6\n",
      "ID: ('isbn', '0195367138')\n",
      "Source: https://books.google.com/books?isbn=0195367138\n",
      "Title: The Oxford Companion to Beer \n",
      "\n",
      "Rank: 2 \n",
      "Citations: 2\n",
      "ID: ('isbn', '9781466881952')\n",
      "Source: https://books.google.com/books?isbn=9781466881952\n",
      "Title: The Encyclopedia of Beer: The Beer Lover's Bible - A ... \n",
      "\n",
      "Rank: 3 \n",
      "Citations: 2\n",
      "ID: ('isbn', '9780299188948')\n",
      "Source: https://books.google.com/books?isbn=9780299188948\n",
      "Title: The Best Breweries and Brewpubs of Illinois: Searching for ... \n",
      "\n",
      "Rank: 4 \n",
      "Citations: 2\n",
      "ID: ('isbn', '9780865715561')\n",
      "Source: https://books.google.com/books?isbn=9780865715561\n",
      "Title: Fermenting Revolution: How to Drink Beer and Save the World \n",
      "\n",
      "Rank: 5 \n",
      "Citations: 1\n",
      "ID: ('isbn', '9780937381694')\n",
      "Source: https://books.google.com/books?isbn=9780937381694\n",
      "Title: Pale Ale: History, Brewing Techniques, Recipes \n",
      "\n",
      "Rank: 6 \n",
      "Citations: 1\n",
      "ID: ('isbn', '9780345274083')\n",
      "Source: https://books.google.com/books?id=_IBnAAAACAAJ&dq=isbn+9780345274083&hl=en&sa=X&ved=0ahUKEwiwg8qXvtndAhWD6lMKHaCyCjQQ6AEIFDAB\n",
      "Title: The World Guide to Beer: The Brewing Styles, the Brands, the ... \n",
      "\n",
      "Rank: 7 \n",
      "Citations: 1\n",
      "ID: ('isbn', '9781938469008')\n",
      "Source: https://books.google.com/books?isbn=9781938469008\n",
      "Title: IPA: Brewing Techniques, Recipes and the Evolution of India ... \n",
      "\n",
      "Rank: 8 \n",
      "Citations: 1\n",
      "ID: ('isbn', '0195154797')\n",
      "Source: https://books.google.com/books?isbn=0195154797\n",
      "Title: Beer: Tap Into the Art and Science of Brewing \n",
      "\n",
      "Rank: 9 \n",
      "Citations: 1\n",
      "ID: ('isbn', '0761184988')\n",
      "Source: https://books.google.com/books?isbn=0761184988\n",
      "Title: The Beer Bible \n",
      "\n",
      "Rank: 10 \n",
      "Citations: 1\n",
      "ID: ('doi', '10.1073/pnas.1105430108')\n",
      "Source: https://doi.org/10.1073/pnas.1105430108\n",
      "Title: Microbe domestication and the identification of the wild genetic stock of lager-brewing yeast \n",
      "\n",
      "Rank: 11 \n",
      "Citations: 1\n",
      "ID: ('doi', '10.1007/BF02042841')\n",
      "Source: https://doi.org/10.1007/BF02042841\n",
      "Title: The history of beer additives in Europe — A review \n",
      "\n",
      "Rank: 12 \n",
      "Citations: 1\n",
      "ID: ('isbn', '9781624143793')\n",
      "Source: https://books.google.com/books?id=b39EDgAAQBAJ&printsec=frontcover&dq=isbn+9781624143793&hl=en&sa=X&ved=0ahUKEwiDuuuavtndAhWMvVMKHQL8A4oQ6AEIFDAA\n",
      "Title: Against All Hops: Techniques and Philosophy for Creating ... \n",
      "\n",
      "Rank: 13 \n",
      "Citations: 1\n",
      "ID: ('isbn', '0937381667')\n",
      "Source: https://books.google.com/books?isbn=0937381667\n",
      "Title: Sacred and Herbal Healing Beers: The Secrets of Ancient ... \n",
      "\n"
     ]
    }
   ],
   "source": [
    "gr.find_most_relevant(('isbn','9780937381502'), 13)"
   ]
  },
  {
   "cell_type": "markdown",
   "metadata": {},
   "source": [
    "**Observation:** The system has identified publications highly relevant to the topic. The highest ranking publications can be considered reference sources, while the lower ranking publications are generally more specific, but still interesting suggestions."
   ]
  },
  {
   "cell_type": "markdown",
   "metadata": {},
   "source": [
    "### 3.2 Publications related to article \"Learning the parts of objects by non-negative matrix factorization\" by Lee and Seung, Nature (1999)."
   ]
  },
  {
   "cell_type": "code",
   "execution_count": 100,
   "metadata": {},
   "outputs": [
    {
     "name": "stdout",
     "output_type": "stream",
     "text": [
      "Original publication: ('doi', '10.1038/44565') \n",
      "Title: Learning the parts of objects by non-negative matrix factorization \n",
      "\n",
      "\n",
      "2 pages referring to the publication:\n",
      " ['Non-negative matrix factorization', 'Dimensionality reduction'] \n",
      "\n",
      "\n",
      "Number of categories for level 2 publications: 5\n",
      "Rank: 1 \n",
      "Citations: 10\n",
      "ID: ('pmid', '29234465')\n",
      "Source: https://www.ncbi.nlm.nih.gov/pubmed/29234465\n",
      "Title: Ten quick tips for machine learning in computational biology. \n",
      "\n",
      "Rank: 2 \n",
      "Citations: 8\n",
      "ID: ('arxiv', '1207.4197')\n",
      "Source: https://arxiv.org/abs/1207.4197\n",
      "Title: Detection and Characterization of Exoplanets and Disks using Projections  on Karhunen-Loeve Eigenimages \n",
      "\n",
      "Rank: 3 \n",
      "Citations: 6\n",
      "ID: ('doi', '10.1086/510127')\n",
      "Source: https://doi.org/10.1086/510127\n",
      "Title: K-Corrections and Filter Transformations in the Ultraviolet, Optical, and Near-Infrared \n",
      "\n",
      "Rank: 4 \n",
      "Citations: 6\n",
      "ID: ('doi', '10.3847/1538-4357/aaa1f2')\n",
      "Source: https://doi.org/10.3847/1538-4357/aaa1f2\n",
      "Title: Non-negative Matrix Factorization: Robust Extraction of Extended Structures \n",
      "\n",
      "Rank: 5 \n",
      "Citations: 4\n",
      "ID: ('arxiv', '1404.7828')\n",
      "Source: https://arxiv.org/abs/1404.7828\n",
      "Title: Deep Learning in Neural Networks: An Overview \n",
      "\n",
      "Rank: 6 \n",
      "Citations: 4\n",
      "ID: ('pmid', '11125150')\n",
      "Source: https://www.ncbi.nlm.nih.gov/pubmed/11125150\n",
      "Title: Nonlinear dimensionality reduction by locally linear embedding. \n",
      "\n",
      "Rank: 7 \n",
      "Citations: 4\n",
      "ID: ('doi', '10.1105/tpc.111.088153')\n",
      "Source: https://doi.org/10.1105/tpc.111.088153\n",
      "Title: Functional Network Construction in Arabidopsis Using Rule-Based Machine Learning on Large-Scale Data Sets \n",
      "\n",
      "Rank: 8 \n",
      "Citations: 3\n",
      "ID: ('doi', '10.1038/323533a0')\n",
      "Source: https://doi.org/10.1038/323533a0\n",
      "Title: Learning representations by back-propagating errors \n",
      "\n",
      "Rank: 9 \n",
      "Citations: 3\n",
      "ID: ('pmid', '10946390')\n",
      "Source: https://www.ncbi.nlm.nih.gov/pubmed/10946390\n",
      "Title: Independent component analysis: algorithms and applications. \n",
      "\n",
      "Rank: 10 \n",
      "Citations: 3\n",
      "ID: ('doi', '10.1007/s10618-015-0444-8')\n",
      "Source: https://doi.org/10.1007/s10618-015-0444-8\n",
      "Title: On the evaluation of unsupervised outlier detection: measures, datasets, and an empirical study \n",
      "\n",
      "Rank: 11 \n",
      "Citations: 3\n",
      "ID: ('arxiv', '1001.1122')\n",
      "Source: https://arxiv.org/abs/1001.1122\n",
      "Title: Principal manifolds and graphs in practice: from molecular biology to  dynamical systems \n",
      "\n",
      "Rank: 12 \n",
      "Citations: 3\n",
      "ID: ('doi', '10.1007/BF02289464')\n",
      "Source: https://doi.org/10.1007/BF02289464\n",
      "Title: Some mathematical notes on three-mode factor analysis \n",
      "\n",
      "Rank: 13 \n",
      "Citations: 2\n",
      "ID: ('doi', '10.1155/2009/736398')\n",
      "Source: https://doi.org/10.1155/2009/736398\n",
      "Title: Journal of Artificial Evolution and Applications\n",
      "\t\t\t\t\t \n",
      "\n"
     ]
    }
   ],
   "source": [
    "gr.find_most_relevant(('doi','10.1038/44565'), 13)"
   ]
  },
  {
   "cell_type": "markdown",
   "metadata": {},
   "source": [
    "The search results in identification of relevant publications. They are a mix of general review-type articles, technical papers describing new algorithms, as well as field-specific research papers. As a whole they provide useful suggestions for further reading, which I have followed."
   ]
  },
  {
   "cell_type": "markdown",
   "metadata": {},
   "source": [
    "** Save graph in a JSON file for future reuse. **"
   ]
  },
  {
   "cell_type": "code",
   "execution_count": 94,
   "metadata": {
    "collapsed": true
   },
   "outputs": [],
   "source": [
    "from networkx.readwrite import json_graph\n",
    "import json"
   ]
  },
  {
   "cell_type": "code",
   "execution_count": 96,
   "metadata": {
    "collapsed": true
   },
   "outputs": [],
   "source": [
    "def int64_to_int(o):\n",
    "    \"\"\"\n",
    "    Convert np.int64 to python int - otherwise json.dumps does not work\n",
    "    \"\"\"\n",
    "    if isinstance(o, np.int64): return int(o)  \n",
    "    raise TypeError\n",
    "\n",
    "json_string = json.dumps(json_graph.node_link_data(gr.G), default=int64_to_int)"
   ]
  },
  {
   "cell_type": "code",
   "execution_count": 97,
   "metadata": {
    "collapsed": true
   },
   "outputs": [],
   "source": [
    "with open(os.path.join(processed_path, 'graph.json'), 'w') as fo:\n",
    "    json.dump(json_string, fo)"
   ]
  },
  {
   "cell_type": "markdown",
   "metadata": {},
   "source": [
    "## 4. Conculsions and general comments\n",
    "\n",
    "We have built the core of a recommendation system based on semantic closeness expressed and implemented as a graph of relations. At present the code (stored in the src subdirectory) includes two main parts: (I) functionality for web scraping wikipedia and Google search results and (II) building a graph of relevant semantic relations.\n",
    "\n",
    "In its current form the model can be considered a basis of a system for the recommendation of significant related literature, which could be used in a systematic research of a given subject matter, especially for meta-research comparing results of different studies. As such the most likely customer would be a research institution or a technology company. If augmented by additional resources, such as shopping history, the system could be adapted as a part of a more general recommendation system.\n",
    "\n",
    "The system can be further improved by adjusting relative weights for ranking based on the path lengthts between the original and recommended publications and including higher-level categories. To prevent diverging from the topic, only categories that are connected to two or more lower-level categories would be included.\n",
    "\n",
    "One of the main limitations of the current system stems from the incomplete dataset of wikipedia references. The next step would therefore include updating the data through additional web scraping. Also, more complete information about publications could be stored as a new table in a local relational database, which would help connecting the same publications with different identification numbers. As a result, the search could be faster and search for additional information about the publications more complete.\n",
    "\n",
    "The system can be further adapted to work with other resources by keeping the core of the semantic graph functionality (part II) while replacing or combining the Wikipedia web scraping part I with other sources, such as Web of Science or Google Scholar."
   ]
  }
 ],
 "metadata": {
  "kernelspec": {
   "display_name": "Python 3",
   "language": "python",
   "name": "python3"
  },
  "language_info": {
   "codemirror_mode": {
    "name": "ipython",
    "version": 3
   },
   "file_extension": ".py",
   "mimetype": "text/x-python",
   "name": "python",
   "nbconvert_exporter": "python",
   "pygments_lexer": "ipython3",
   "version": "3.6.1"
  }
 },
 "nbformat": 4,
 "nbformat_minor": 2
}
