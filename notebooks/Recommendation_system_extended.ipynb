{
 "cells": [
  {
   "cell_type": "markdown",
   "metadata": {},
   "source": [
    "# Publication recommendation system"
   ]
  },
  {
   "cell_type": "markdown",
   "metadata": {},
   "source": [
    "## 1. Read dataset linking wikipedia articles with publications and create a bipartite graph of the relation"
   ]
  },
  {
   "cell_type": "code",
   "execution_count": 1,
   "metadata": {
    "collapsed": true
   },
   "outputs": [],
   "source": [
    "import os\n",
    "import sys\n",
    "import numpy as np\n",
    "import pandas as pd\n",
    "import networkx as nx\n",
    "%matplotlib inline\n",
    "import matplotlib.pyplot as plt"
   ]
  },
  {
   "cell_type": "code",
   "execution_count": 2,
   "metadata": {
    "collapsed": true
   },
   "outputs": [],
   "source": [
    "%load_ext autoreload\n",
    "%autoreload 2"
   ]
  },
  {
   "cell_type": "markdown",
   "metadata": {},
   "source": [
    "### Read wikipedia references from a TSV file"
   ]
  },
  {
   "cell_type": "code",
   "execution_count": 3,
   "metadata": {
    "collapsed": true
   },
   "outputs": [],
   "source": [
    "base_path = '../data/raw'\n",
    "processed_path = '../data/processed'"
   ]
  },
  {
   "cell_type": "code",
   "execution_count": 4,
   "metadata": {},
   "outputs": [
    {
     "data": {
      "text/html": [
       "<div>\n",
       "<style scoped>\n",
       "    .dataframe tbody tr th:only-of-type {\n",
       "        vertical-align: middle;\n",
       "    }\n",
       "\n",
       "    .dataframe tbody tr th {\n",
       "        vertical-align: top;\n",
       "    }\n",
       "\n",
       "    .dataframe thead th {\n",
       "        text-align: right;\n",
       "    }\n",
       "</style>\n",
       "<table border=\"1\" class=\"dataframe\">\n",
       "  <thead>\n",
       "    <tr style=\"text-align: right;\">\n",
       "      <th></th>\n",
       "      <th>page_id</th>\n",
       "      <th>page_title</th>\n",
       "      <th>rev_id</th>\n",
       "      <th>timestamp</th>\n",
       "      <th>type</th>\n",
       "      <th>id</th>\n",
       "    </tr>\n",
       "  </thead>\n",
       "  <tbody>\n",
       "    <tr>\n",
       "      <th>0</th>\n",
       "      <td>2867096</td>\n",
       "      <td>Mu Aquilae</td>\n",
       "      <td>503137751</td>\n",
       "      <td>2012-07-19 16:08:41</td>\n",
       "      <td>doi</td>\n",
       "      <td>10.1051/0004-6361:20078357</td>\n",
       "    </tr>\n",
       "    <tr>\n",
       "      <th>1</th>\n",
       "      <td>2867096</td>\n",
       "      <td>Mu Aquilae</td>\n",
       "      <td>508363722</td>\n",
       "      <td>2012-08-20 22:56:21</td>\n",
       "      <td>arxiv</td>\n",
       "      <td>astro-ph/0604502</td>\n",
       "    </tr>\n",
       "    <tr>\n",
       "      <th>2</th>\n",
       "      <td>2867096</td>\n",
       "      <td>Mu Aquilae</td>\n",
       "      <td>508363722</td>\n",
       "      <td>2012-08-20 22:56:21</td>\n",
       "      <td>arxiv</td>\n",
       "      <td>astro-ph/0003329</td>\n",
       "    </tr>\n",
       "    <tr>\n",
       "      <th>3</th>\n",
       "      <td>2867096</td>\n",
       "      <td>Mu Aquilae</td>\n",
       "      <td>508363722</td>\n",
       "      <td>2012-08-20 22:56:21</td>\n",
       "      <td>arxiv</td>\n",
       "      <td>0708.1752</td>\n",
       "    </tr>\n",
       "    <tr>\n",
       "      <th>4</th>\n",
       "      <td>2867096</td>\n",
       "      <td>Mu Aquilae</td>\n",
       "      <td>503137751</td>\n",
       "      <td>2012-07-19 16:08:41</td>\n",
       "      <td>doi</td>\n",
       "      <td>10.1051/0004-6361:20064946</td>\n",
       "    </tr>\n",
       "  </tbody>\n",
       "</table>\n",
       "</div>"
      ],
      "text/plain": [
       "   page_id  page_title     rev_id           timestamp   type  \\\n",
       "0  2867096  Mu Aquilae  503137751 2012-07-19 16:08:41    doi   \n",
       "1  2867096  Mu Aquilae  508363722 2012-08-20 22:56:21  arxiv   \n",
       "2  2867096  Mu Aquilae  508363722 2012-08-20 22:56:21  arxiv   \n",
       "3  2867096  Mu Aquilae  508363722 2012-08-20 22:56:21  arxiv   \n",
       "4  2867096  Mu Aquilae  503137751 2012-07-19 16:08:41    doi   \n",
       "\n",
       "                           id  \n",
       "0  10.1051/0004-6361:20078357  \n",
       "1            astro-ph/0604502  \n",
       "2            astro-ph/0003329  \n",
       "3                   0708.1752  \n",
       "4  10.1051/0004-6361:20064946  "
      ]
     },
     "execution_count": 4,
     "metadata": {},
     "output_type": "execute_result"
    }
   ],
   "source": [
    "# read TSV data\n",
    "df = pd.read_csv(os.path.join(base_path,'enwiki.tsv'), sep='\\t', parse_dates=['timestamp'],infer_datetime_format=True)\n",
    "\n",
    "# Convert mistakenly converted type nan to string 'NaN' (wikipedia page name)\n",
    "df.page_title = df.page_title.fillna(\"NaN\")\n",
    "\n",
    "df.head(5)"
   ]
  },
  {
   "cell_type": "markdown",
   "metadata": {},
   "source": [
    "Add new book information to the dataframe."
   ]
  },
  {
   "cell_type": "code",
   "execution_count": 5,
   "metadata": {
    "collapsed": true
   },
   "outputs": [],
   "source": [
    "df_new = pd.DataFrame({'page_id':[19555312], 'page_title':['Lager'], 'rev_id':[0], 'timestamp':['2015-02-09 17:01:25'],'type':['isbn'],'id':['9780937381502']})"
   ]
  },
  {
   "cell_type": "code",
   "execution_count": 6,
   "metadata": {
    "collapsed": true
   },
   "outputs": [],
   "source": [
    "df = df.append(df_new, ignore_index=True)"
   ]
  },
  {
   "cell_type": "code",
   "execution_count": 7,
   "metadata": {},
   "outputs": [
    {
     "data": {
      "text/html": [
       "<div>\n",
       "<style scoped>\n",
       "    .dataframe tbody tr th:only-of-type {\n",
       "        vertical-align: middle;\n",
       "    }\n",
       "\n",
       "    .dataframe tbody tr th {\n",
       "        vertical-align: top;\n",
       "    }\n",
       "\n",
       "    .dataframe thead th {\n",
       "        text-align: right;\n",
       "    }\n",
       "</style>\n",
       "<table border=\"1\" class=\"dataframe\">\n",
       "  <thead>\n",
       "    <tr style=\"text-align: right;\">\n",
       "      <th></th>\n",
       "      <th>page_id</th>\n",
       "      <th>page_title</th>\n",
       "      <th>rev_id</th>\n",
       "      <th>timestamp</th>\n",
       "      <th>type</th>\n",
       "      <th>id</th>\n",
       "    </tr>\n",
       "  </thead>\n",
       "  <tbody>\n",
       "    <tr>\n",
       "      <th>390251</th>\n",
       "      <td>5963160</td>\n",
       "      <td>Mash ingredients</td>\n",
       "      <td>640564057</td>\n",
       "      <td>2015-01-01 21:40:40</td>\n",
       "      <td>isbn</td>\n",
       "      <td>9780937381502</td>\n",
       "    </tr>\n",
       "    <tr>\n",
       "      <th>3594658</th>\n",
       "      <td>812938</td>\n",
       "      <td>India pale ale</td>\n",
       "      <td>646372580</td>\n",
       "      <td>2015-02-09 17:24:48</td>\n",
       "      <td>isbn</td>\n",
       "      <td>9780937381502</td>\n",
       "    </tr>\n",
       "    <tr>\n",
       "      <th>3794695</th>\n",
       "      <td>19555312</td>\n",
       "      <td>Lager</td>\n",
       "      <td>0</td>\n",
       "      <td>2015-02-09 17:01:25</td>\n",
       "      <td>isbn</td>\n",
       "      <td>9780937381502</td>\n",
       "    </tr>\n",
       "  </tbody>\n",
       "</table>\n",
       "</div>"
      ],
      "text/plain": [
       "          page_id        page_title     rev_id            timestamp  type  \\\n",
       "390251    5963160  Mash ingredients  640564057  2015-01-01 21:40:40  isbn   \n",
       "3594658    812938    India pale ale  646372580  2015-02-09 17:24:48  isbn   \n",
       "3794695  19555312             Lager          0  2015-02-09 17:01:25  isbn   \n",
       "\n",
       "                    id  \n",
       "390251   9780937381502  \n",
       "3594658  9780937381502  \n",
       "3794695  9780937381502  "
      ]
     },
     "execution_count": 7,
     "metadata": {},
     "output_type": "execute_result"
    }
   ],
   "source": [
    "book_title = 'Designing Great Beers: The Ultimate Guide to Brewing Classic Beer Styles'\n",
    "df[df.id == '9780937381502']"
   ]
  },
  {
   "cell_type": "markdown",
   "metadata": {},
   "source": [
    "### Create a directed bipartite graph of references from wikipedia pages to publications"
   ]
  },
  {
   "cell_type": "markdown",
   "metadata": {},
   "source": [
    "**Create a bipartite graph connecting wiki pages and publications**"
   ]
  },
  {
   "cell_type": "code",
   "execution_count": 43,
   "metadata": {},
   "outputs": [],
   "source": [
    "# import the project module containing functions for reading data from wikipedia\n",
    "# and working with the graph-based recommendation system\n",
    "sys.path.append('../src')\n",
    "from recomm.graph_rank import GraphRank"
   ]
  },
  {
   "cell_type": "markdown",
   "metadata": {},
   "source": [
    "Create a GraphRank object - a graph-based model for publication recommendation."
   ]
  },
  {
   "cell_type": "code",
   "execution_count": 9,
   "metadata": {
    "collapsed": true
   },
   "outputs": [],
   "source": [
    "gr = GraphRank()"
   ]
  },
  {
   "cell_type": "code",
   "execution_count": 10,
   "metadata": {
    "collapsed": true
   },
   "outputs": [],
   "source": [
    "gr.build_graph(df, 'page_title', 'page_id', 'type', 'id')"
   ]
  },
  {
   "cell_type": "markdown",
   "metadata": {},
   "source": [
    "** Test of the recommendation system**\n",
    "\n",
    "* Publications related to \"Designing Great Beers\""
   ]
  },
  {
   "cell_type": "code",
   "execution_count": 44,
   "metadata": {},
   "outputs": [
    {
     "name": "stdout",
     "output_type": "stream",
     "text": [
      "Original publication: ('isbn', '9780937381502') \n",
      "Title: Designing Great Beers: The Ultimate Guide to Brewing Classic ... \n",
      "\n",
      "\n",
      "3 pages referring to the publication:\n",
      " ['Mash ingredients', 'India pale ale', 'Lager'] \n",
      "\n",
      "\n",
      "Number of categories for level 2 publications: 3\n",
      "Rank: 1 \n",
      "Citations: 6\n",
      "ID: ('isbn', '0195367138')\n",
      "Source: https://books.google.com/books?isbn=0195367138\n",
      "Title: The Oxford Companion to Beer \n",
      "\n",
      "Rank: 2 \n",
      "Citations: 2\n",
      "ID: ('isbn', '9781466881952')\n",
      "Source: https://books.google.com/books?isbn=9781466881952\n",
      "Title: The Encyclopedia of Beer: The Beer Lover's Bible - A ... \n",
      "\n",
      "Rank: 3 \n",
      "Citations: 2\n",
      "ID: ('isbn', '9780299188948')\n",
      "Source: https://books.google.com/books?isbn=9780299188948\n",
      "Title: The Best Breweries and Brewpubs of Illinois: Searching for ... \n",
      "\n",
      "Rank: 4 \n",
      "Citations: 2\n",
      "ID: ('isbn', '9780865715561')\n",
      "Source: https://books.google.com/books?isbn=9780865715561\n",
      "Title: Fermenting Revolution: How to Drink Beer and Save the World \n",
      "\n",
      "Rank: 5 \n",
      "Citations: 1\n",
      "ID: ('isbn', '9780937381694')\n",
      "Source: https://books.google.com/books?isbn=9780937381694\n",
      "Title: Pale Ale: History, Brewing Techniques, Recipes \n",
      "\n",
      "Rank: 6 \n",
      "Citations: 1\n",
      "ID: ('isbn', '9780345274083')\n",
      "Source: https://books.google.com/books?id=_IBnAAAACAAJ&dq=isbn+9780345274083&hl=en&sa=X&ved=0ahUKEwiwg8qXvtndAhWD6lMKHaCyCjQQ6AEIFDAB\n",
      "Title: The World Guide to Beer: The Brewing Styles, the Brands, the ... \n",
      "\n",
      "Rank: 7 \n",
      "Citations: 1\n",
      "ID: ('isbn', '9781938469008')\n",
      "Source: https://books.google.com/books?isbn=9781938469008\n",
      "Title: IPA: Brewing Techniques, Recipes and the Evolution of India ... \n",
      "\n",
      "Rank: 8 \n",
      "Citations: 1\n",
      "ID: ('isbn', '0195154797')\n",
      "Source: https://books.google.com/books?isbn=0195154797\n",
      "Title: Beer: Tap Into the Art and Science of Brewing \n",
      "\n",
      "Rank: 9 \n",
      "Citations: 1\n",
      "ID: ('isbn', '0761184988')\n",
      "Source: https://books.google.com/books?isbn=0761184988\n",
      "Title: The Beer Bible \n",
      "\n",
      "Rank: 10 \n",
      "Citations: 1\n",
      "ID: ('doi', '10.1073/pnas.1105430108')\n",
      "Source: https://doi.org/10.1073/pnas.1105430108\n",
      "Title: Microbe domestication and the identification of the wild genetic stock of lager-brewing yeast \n",
      "\n",
      "Rank: 11 \n",
      "Citations: 1\n",
      "ID: ('doi', '10.1007/BF02042841')\n",
      "Source: https://doi.org/10.1007/BF02042841\n",
      "Title: The history of beer additives in Europe — A review \n",
      "\n",
      "Rank: 12 \n",
      "Citations: 1\n",
      "ID: ('isbn', '9781624143793')\n",
      "Source: https://books.google.com/books?id=b39EDgAAQBAJ&printsec=frontcover&dq=isbn+9781624143793&hl=en&sa=X&ved=0ahUKEwiDuuuavtndAhWMvVMKHQL8A4oQ6AEIFDAA\n",
      "Title: Against All Hops: Techniques and Philosophy for Creating ... \n",
      "\n",
      "Rank: 13 \n",
      "Citations: 1\n",
      "ID: ('isbn', '0937381667')\n",
      "Source: https://books.google.com/books?isbn=0937381667\n",
      "Title: Sacred and Herbal Healing Beers: The Secrets of Ancient ... \n",
      "\n"
     ]
    }
   ],
   "source": [
    "gr.find_most_relevant(('isbn','9780937381502'), 10)"
   ]
  }
 ],
 "metadata": {
  "kernelspec": {
   "display_name": "Python 3",
   "language": "python",
   "name": "python3"
  },
  "language_info": {
   "codemirror_mode": {
    "name": "ipython",
    "version": 3
   },
   "file_extension": ".py",
   "mimetype": "text/x-python",
   "name": "python",
   "nbconvert_exporter": "python",
   "pygments_lexer": "ipython3",
   "version": "3.6.1"
  }
 },
 "nbformat": 4,
 "nbformat_minor": 2
}
