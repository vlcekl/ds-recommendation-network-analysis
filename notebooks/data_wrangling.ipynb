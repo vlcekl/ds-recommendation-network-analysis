{
 "cells": [
  {
   "cell_type": "markdown",
   "metadata": {},
   "source": [
    "# Data wrangling and exploration - Wikipedia citation records\n",
    "\n",
    "* Read bulk TSV files, select and process informative columns. Construct a directed bipartite graph of web pages and cited publications, and analyze the graph properties."
   ]
  },
  {
   "cell_type": "markdown",
   "metadata": {},
   "source": [
    "### 1. Raw data collection\n",
    "\n",
    "The primary source of data for Wikipedia citation statistics comes from online repository: https://analytics.wikimedia.org/datasets/archive/public-datasets/all/mwrefs/mwcites-20180301/\n",
    "The datasets for different languages are stored in separate archives, each containing a 'tab-separated values' (TSV) files.\n",
    "\n",
    "### 2. Data cleaning\n",
    "\n",
    "The TSV files were read into a pandas dataframe. The datasets contain 6 features: page_id, page_title, rev_id, timestamp, type, and id. The data is already clean, the only modification was to convert wikipedia webpage named 'NaN' (describing the concept of not-a-number) to a string, rather than NaN value, as interpretted by pandas read_csv().\n",
    "\n",
    "\n",
    "### 3. Construction of graph representation of the web pages and publications\n",
    "\n",
    "Using networkx library, directed bipartite graph was constructed to represent the relations between pages and publications. The unique values of page ids ('page_id') and publication ids ('id') were converted to graph nodes, and pairs of 'page_id' and 'id' from the dataframe records were converted to edges. Each node has the 'bipartite' property.\n",
    "\n",
    "\n",
    "### 4. Exploration of graph properties\n",
    "\n",
    "Degree of centrality (DOC) was calcualted for both partitions, and most connected pages and publications were determined. The DOC distribution is most conveniently presented in a log-log plot. The near-linear dependence between the logs of publications and logs of their DOCs suggests a power relation between the two. Save graph in JSON format\n",
    "\n",
    "### 5. Explore wikipedia in python\n",
    "\n",
    "Try 'wikipedia' library to get infromation from pages"
   ]
  },
  {
   "cell_type": "markdown",
   "metadata": {},
   "source": [
    "## Data wrangling code"
   ]
  },
  {
   "cell_type": "code",
   "execution_count": 1,
   "metadata": {
    "collapsed": true
   },
   "outputs": [],
   "source": [
    "import os\n",
    "import numpy as np\n",
    "import pandas as pd\n",
    "import networkx as nx\n",
    "%matplotlib inline\n",
    "import matplotlib.pyplot as plt"
   ]
  },
  {
   "cell_type": "markdown",
   "metadata": {},
   "source": [
    "The Wikipedia data is in the form of series of language-specific TSV files, which were downloaded into a local directory (data/raw)."
   ]
  },
  {
   "cell_type": "code",
   "execution_count": 2,
   "metadata": {
    "collapsed": true
   },
   "outputs": [],
   "source": [
    "base_path = '../data/raw'\n",
    "processed_path = '../data/processed'"
   ]
  },
  {
   "cell_type": "code",
   "execution_count": 3,
   "metadata": {},
   "outputs": [
    {
     "data": {
      "text/html": [
       "<div>\n",
       "<style scoped>\n",
       "    .dataframe tbody tr th:only-of-type {\n",
       "        vertical-align: middle;\n",
       "    }\n",
       "\n",
       "    .dataframe tbody tr th {\n",
       "        vertical-align: top;\n",
       "    }\n",
       "\n",
       "    .dataframe thead th {\n",
       "        text-align: right;\n",
       "    }\n",
       "</style>\n",
       "<table border=\"1\" class=\"dataframe\">\n",
       "  <thead>\n",
       "    <tr style=\"text-align: right;\">\n",
       "      <th></th>\n",
       "      <th>page_id</th>\n",
       "      <th>page_title</th>\n",
       "      <th>rev_id</th>\n",
       "      <th>timestamp</th>\n",
       "      <th>type</th>\n",
       "      <th>id</th>\n",
       "    </tr>\n",
       "  </thead>\n",
       "  <tbody>\n",
       "    <tr>\n",
       "      <th>0</th>\n",
       "      <td>2867096</td>\n",
       "      <td>Mu Aquilae</td>\n",
       "      <td>503137751</td>\n",
       "      <td>2012-07-19 16:08:41</td>\n",
       "      <td>doi</td>\n",
       "      <td>10.1051/0004-6361:20078357</td>\n",
       "    </tr>\n",
       "    <tr>\n",
       "      <th>1</th>\n",
       "      <td>2867096</td>\n",
       "      <td>Mu Aquilae</td>\n",
       "      <td>508363722</td>\n",
       "      <td>2012-08-20 22:56:21</td>\n",
       "      <td>arxiv</td>\n",
       "      <td>astro-ph/0604502</td>\n",
       "    </tr>\n",
       "    <tr>\n",
       "      <th>2</th>\n",
       "      <td>2867096</td>\n",
       "      <td>Mu Aquilae</td>\n",
       "      <td>508363722</td>\n",
       "      <td>2012-08-20 22:56:21</td>\n",
       "      <td>arxiv</td>\n",
       "      <td>astro-ph/0003329</td>\n",
       "    </tr>\n",
       "    <tr>\n",
       "      <th>3</th>\n",
       "      <td>2867096</td>\n",
       "      <td>Mu Aquilae</td>\n",
       "      <td>508363722</td>\n",
       "      <td>2012-08-20 22:56:21</td>\n",
       "      <td>arxiv</td>\n",
       "      <td>0708.1752</td>\n",
       "    </tr>\n",
       "    <tr>\n",
       "      <th>4</th>\n",
       "      <td>2867096</td>\n",
       "      <td>Mu Aquilae</td>\n",
       "      <td>503137751</td>\n",
       "      <td>2012-07-19 16:08:41</td>\n",
       "      <td>doi</td>\n",
       "      <td>10.1051/0004-6361:20064946</td>\n",
       "    </tr>\n",
       "  </tbody>\n",
       "</table>\n",
       "</div>"
      ],
      "text/plain": [
       "   page_id  page_title     rev_id           timestamp   type  \\\n",
       "0  2867096  Mu Aquilae  503137751 2012-07-19 16:08:41    doi   \n",
       "1  2867096  Mu Aquilae  508363722 2012-08-20 22:56:21  arxiv   \n",
       "2  2867096  Mu Aquilae  508363722 2012-08-20 22:56:21  arxiv   \n",
       "3  2867096  Mu Aquilae  508363722 2012-08-20 22:56:21  arxiv   \n",
       "4  2867096  Mu Aquilae  503137751 2012-07-19 16:08:41    doi   \n",
       "\n",
       "                           id  \n",
       "0  10.1051/0004-6361:20078357  \n",
       "1            astro-ph/0604502  \n",
       "2            astro-ph/0003329  \n",
       "3                   0708.1752  \n",
       "4  10.1051/0004-6361:20064946  "
      ]
     },
     "execution_count": 3,
     "metadata": {},
     "output_type": "execute_result"
    }
   ],
   "source": [
    "# read TSV data\n",
    "df = pd.read_csv(os.path.join(base_path,'enwiki.tsv'), sep='\\t', parse_dates=['timestamp'],infer_datetime_format=True)\n",
    "\n",
    "# Convert mistakenly converted type nan to string 'NaN' (wikipedia page name)\n",
    "df.page_title = df.page_title.fillna(\"NaN\")\n",
    "\n",
    "df.head(5)"
   ]
  },
  {
   "cell_type": "code",
   "execution_count": 4,
   "metadata": {},
   "outputs": [
    {
     "name": "stdout",
     "output_type": "stream",
     "text": [
      "<class 'pandas.core.frame.DataFrame'>\n",
      "RangeIndex: 3794695 entries, 0 to 3794694\n",
      "Data columns (total 6 columns):\n",
      "page_id       int64\n",
      "page_title    object\n",
      "rev_id        int64\n",
      "timestamp     datetime64[ns]\n",
      "type          object\n",
      "id            object\n",
      "dtypes: datetime64[ns](1), int64(2), object(3)\n",
      "memory usage: 173.7+ MB\n"
     ]
    }
   ],
   "source": [
    "df.info()"
   ]
  },
  {
   "cell_type": "markdown",
   "metadata": {},
   "source": [
    "**Create a bipartite graph**\n",
    "\n",
    "Prepare lists of nodes and edges from the dataframe"
   ]
  },
  {
   "cell_type": "code",
   "execution_count": 5,
   "metadata": {
    "collapsed": true
   },
   "outputs": [],
   "source": [
    "# list of unique web pages (web_page nodes)\n",
    "wpages = df.page_id.unique()\n",
    "\n",
    "# list of unique publications (publication nodes)\n",
    "pubs = df.id.unique()\n",
    "\n",
    "# list of references (edges)\n",
    "edges = [(page, pub) for page, pub in df[['page_id', 'id']].values]"
   ]
  },
  {
   "cell_type": "code",
   "execution_count": 6,
   "metadata": {},
   "outputs": [
    {
     "data": {
      "text/plain": [
       "(857765, 2190762, 3794695)"
      ]
     },
     "execution_count": 6,
     "metadata": {},
     "output_type": "execute_result"
    }
   ],
   "source": [
    "len(wpages), len(pubs), len(edges)"
   ]
  },
  {
   "cell_type": "markdown",
   "metadata": {},
   "source": [
    "Create a bipartite directed graph "
   ]
  },
  {
   "cell_type": "code",
   "execution_count": 7,
   "metadata": {
    "collapsed": true
   },
   "outputs": [],
   "source": [
    "G = nx.DiGraph()\n",
    "G.add_nodes_from(wpages, bipartite='web_page')\n",
    "G.add_nodes_from(pubs, bipartite='publication')\n",
    "G.add_edges_from(edges)"
   ]
  },
  {
   "cell_type": "markdown",
   "metadata": {},
   "source": [
    "Make lists of web_page and publication nodes (same as above but, now extracted directly from the graph)"
   ]
  },
  {
   "cell_type": "code",
   "execution_count": 8,
   "metadata": {
    "collapsed": true
   },
   "outputs": [],
   "source": [
    "wpage_nodes = [node for node, data in G.nodes(data=True) if data['bipartite']=='web_page']\n",
    "pub_nodes = [node for node, data in G.nodes(data=True) if data['bipartite']=='publication']"
   ]
  },
  {
   "cell_type": "markdown",
   "metadata": {},
   "source": [
    "Calculate bipartite degree centrality"
   ]
  },
  {
   "cell_type": "code",
   "execution_count": 9,
   "metadata": {
    "collapsed": true
   },
   "outputs": [],
   "source": [
    "dcent = nx.bipartite.degree_centrality(G, wpage_nodes)"
   ]
  },
  {
   "cell_type": "markdown",
   "metadata": {},
   "source": [
    "Assign degree of centrality to the two partitions and rank nodeds within each partition"
   ]
  },
  {
   "cell_type": "code",
   "execution_count": 10,
   "metadata": {
    "collapsed": true
   },
   "outputs": [],
   "source": [
    "# webpage ranking\n",
    "wpage_dcent = [(node, dcent[node]) for node in wpage_nodes]\n",
    "wpage_rank = sorted(wpage_dcent, key=lambda x: x[1], reverse=True)\n",
    "\n",
    "# publication ranking\n",
    "pub_dcent = [(node, dcent[node]) for node in pub_nodes]\n",
    "pub_rank = sorted(pub_dcent, key=lambda x: x[1], reverse=True)"
   ]
  },
  {
   "cell_type": "markdown",
   "metadata": {},
   "source": [
    "**Look at the most prominent web pages and publications**"
   ]
  },
  {
   "cell_type": "code",
   "execution_count": 11,
   "metadata": {},
   "outputs": [
    {
     "name": "stdout",
     "output_type": "stream",
     "text": [
      "Web page with most references: 2017 in paleontology\n",
      "Number of references: 930\n"
     ]
    },
    {
     "data": {
      "text/html": [
       "<div>\n",
       "<style scoped>\n",
       "    .dataframe tbody tr th:only-of-type {\n",
       "        vertical-align: middle;\n",
       "    }\n",
       "\n",
       "    .dataframe tbody tr th {\n",
       "        vertical-align: top;\n",
       "    }\n",
       "\n",
       "    .dataframe thead th {\n",
       "        text-align: right;\n",
       "    }\n",
       "</style>\n",
       "<table border=\"1\" class=\"dataframe\">\n",
       "  <thead>\n",
       "    <tr style=\"text-align: right;\">\n",
       "      <th></th>\n",
       "      <th>page_id</th>\n",
       "      <th>page_title</th>\n",
       "      <th>rev_id</th>\n",
       "      <th>timestamp</th>\n",
       "      <th>type</th>\n",
       "      <th>id</th>\n",
       "    </tr>\n",
       "  </thead>\n",
       "  <tbody>\n",
       "    <tr>\n",
       "      <th>2863256</th>\n",
       "      <td>52206193</td>\n",
       "      <td>2017 in paleontology</td>\n",
       "      <td>748990989</td>\n",
       "      <td>2016-11-11 17:21:59</td>\n",
       "      <td>doi</td>\n",
       "      <td>10.1017/S0016756816000236</td>\n",
       "    </tr>\n",
       "    <tr>\n",
       "      <th>2863257</th>\n",
       "      <td>52206193</td>\n",
       "      <td>2017 in paleontology</td>\n",
       "      <td>793738221</td>\n",
       "      <td>2017-08-03 16:49:35</td>\n",
       "      <td>doi</td>\n",
       "      <td>10.1016/j.cub.2017.06.071</td>\n",
       "    </tr>\n",
       "    <tr>\n",
       "      <th>2863258</th>\n",
       "      <td>52206193</td>\n",
       "      <td>2017 in paleontology</td>\n",
       "      <td>804164124</td>\n",
       "      <td>2017-10-07 05:05:59</td>\n",
       "      <td>pmid</td>\n",
       "      <td>28489871</td>\n",
       "    </tr>\n",
       "    <tr>\n",
       "      <th>2863259</th>\n",
       "      <td>52206193</td>\n",
       "      <td>2017 in paleontology</td>\n",
       "      <td>787972457</td>\n",
       "      <td>2017-06-28 18:08:23</td>\n",
       "      <td>doi</td>\n",
       "      <td>10.3140/bull.geosci.1668</td>\n",
       "    </tr>\n",
       "    <tr>\n",
       "      <th>2863260</th>\n",
       "      <td>52206193</td>\n",
       "      <td>2017 in paleontology</td>\n",
       "      <td>768238206</td>\n",
       "      <td>2017-03-02 16:51:02</td>\n",
       "      <td>doi</td>\n",
       "      <td>10.5710/AMGH.05.09.2016.3009</td>\n",
       "    </tr>\n",
       "  </tbody>\n",
       "</table>\n",
       "</div>"
      ],
      "text/plain": [
       "          page_id            page_title     rev_id           timestamp  type  \\\n",
       "2863256  52206193  2017 in paleontology  748990989 2016-11-11 17:21:59   doi   \n",
       "2863257  52206193  2017 in paleontology  793738221 2017-08-03 16:49:35   doi   \n",
       "2863258  52206193  2017 in paleontology  804164124 2017-10-07 05:05:59  pmid   \n",
       "2863259  52206193  2017 in paleontology  787972457 2017-06-28 18:08:23   doi   \n",
       "2863260  52206193  2017 in paleontology  768238206 2017-03-02 16:51:02   doi   \n",
       "\n",
       "                                   id  \n",
       "2863256     10.1017/S0016756816000236  \n",
       "2863257     10.1016/j.cub.2017.06.071  \n",
       "2863258                      28489871  \n",
       "2863259      10.3140/bull.geosci.1668  \n",
       "2863260  10.5710/AMGH.05.09.2016.3009  "
      ]
     },
     "execution_count": 11,
     "metadata": {},
     "output_type": "execute_result"
    }
   ],
   "source": [
    "top_page = df.loc[df.page_id == wpage_rank[0][0]].iloc[0]['page_title']\n",
    "print('Web page with most references:', top_page)\n",
    "print('Number of references:', df.loc[df.page_id == wpage_rank[0][0]].shape[0])\n",
    "df.loc[df.page_id == wpage_rank[0][0]].head()"
   ]
  },
  {
   "cell_type": "markdown",
   "metadata": {},
   "source": [
    "Most cited publication (english): \"Encyclopedia Of All Footballers (10th Edition)\""
   ]
  },
  {
   "cell_type": "code",
   "execution_count": 13,
   "metadata": {},
   "outputs": [
    {
     "name": "stdout",
     "output_type": "stream",
     "text": [
      "Number of citations: 4769\n"
     ]
    },
    {
     "data": {
      "text/html": [
       "<div>\n",
       "<style scoped>\n",
       "    .dataframe tbody tr th:only-of-type {\n",
       "        vertical-align: middle;\n",
       "    }\n",
       "\n",
       "    .dataframe tbody tr th {\n",
       "        vertical-align: top;\n",
       "    }\n",
       "\n",
       "    .dataframe thead th {\n",
       "        text-align: right;\n",
       "    }\n",
       "</style>\n",
       "<table border=\"1\" class=\"dataframe\">\n",
       "  <thead>\n",
       "    <tr style=\"text-align: right;\">\n",
       "      <th></th>\n",
       "      <th>page_id</th>\n",
       "      <th>page_title</th>\n",
       "      <th>rev_id</th>\n",
       "      <th>timestamp</th>\n",
       "      <th>type</th>\n",
       "      <th>id</th>\n",
       "    </tr>\n",
       "  </thead>\n",
       "  <tbody>\n",
       "    <tr>\n",
       "      <th>206501</th>\n",
       "      <td>3415451</td>\n",
       "      <td>List of VFL/AFL players with international bac...</td>\n",
       "      <td>798221651</td>\n",
       "      <td>2017-08-31 17:13:15</td>\n",
       "      <td>isbn</td>\n",
       "      <td>9781921496325</td>\n",
       "    </tr>\n",
       "    <tr>\n",
       "      <th>368444</th>\n",
       "      <td>5271083</td>\n",
       "      <td>Vic Cumberland</td>\n",
       "      <td>794792437</td>\n",
       "      <td>2017-08-10 02:26:43</td>\n",
       "      <td>isbn</td>\n",
       "      <td>9781921496325</td>\n",
       "    </tr>\n",
       "    <tr>\n",
       "      <th>704178</th>\n",
       "      <td>13802361</td>\n",
       "      <td>Ian Mort</td>\n",
       "      <td>714356193</td>\n",
       "      <td>2016-04-09 07:02:30</td>\n",
       "      <td>isbn</td>\n",
       "      <td>9781921496325</td>\n",
       "    </tr>\n",
       "    <tr>\n",
       "      <th>834821</th>\n",
       "      <td>15292398</td>\n",
       "      <td>Syd Barker Sr.</td>\n",
       "      <td>640627969</td>\n",
       "      <td>2015-01-02 08:53:41</td>\n",
       "      <td>isbn</td>\n",
       "      <td>9781921496325</td>\n",
       "    </tr>\n",
       "    <tr>\n",
       "      <th>1303211</th>\n",
       "      <td>19228797</td>\n",
       "      <td>Athol Milne</td>\n",
       "      <td>717048257</td>\n",
       "      <td>2016-04-25 12:26:15</td>\n",
       "      <td>isbn</td>\n",
       "      <td>9781921496325</td>\n",
       "    </tr>\n",
       "  </tbody>\n",
       "</table>\n",
       "</div>"
      ],
      "text/plain": [
       "          page_id                                         page_title  \\\n",
       "206501    3415451  List of VFL/AFL players with international bac...   \n",
       "368444    5271083                                     Vic Cumberland   \n",
       "704178   13802361                                           Ian Mort   \n",
       "834821   15292398                                     Syd Barker Sr.   \n",
       "1303211  19228797                                        Athol Milne   \n",
       "\n",
       "            rev_id           timestamp  type             id  \n",
       "206501   798221651 2017-08-31 17:13:15  isbn  9781921496325  \n",
       "368444   794792437 2017-08-10 02:26:43  isbn  9781921496325  \n",
       "704178   714356193 2016-04-09 07:02:30  isbn  9781921496325  \n",
       "834821   640627969 2015-01-02 08:53:41  isbn  9781921496325  \n",
       "1303211  717048257 2016-04-25 12:26:15  isbn  9781921496325  "
      ]
     },
     "execution_count": 13,
     "metadata": {},
     "output_type": "execute_result"
    }
   ],
   "source": [
    "print('Number of citations:', df.loc[df.id == pub_rank[0][0]].shape[0])\n",
    "df.loc[df.id == pub_rank[0][0]].head()"
   ]
  },
  {
   "cell_type": "code",
   "execution_count": 14,
   "metadata": {},
   "outputs": [
    {
     "data": {
      "text/plain": [
       "(1, 4545951.0085820798)"
      ]
     },
     "execution_count": 14,
     "metadata": {},
     "output_type": "execute_result"
    },
    {
     "data": {
      "image/png": "[encoded data removed]",
      "text/plain": [
       "<matplotlib.figure.Figure at 0x14c8489e8>"
      ]
     },
     "metadata": {},
     "output_type": "display_data"
    }
   ],
   "source": [
    "plt.figure(figsize=(18,10))\n",
    "\n",
    "plt.subplot(121)\n",
    "plt.xscale('log')\n",
    "plt.yscale('log')\n",
    "plt.plot(np.array(wpage_rank)[:,1])\n",
    "plt.xlabel('publication #')\n",
    "plt.ylabel('Degree centrality (bipartite)')\n",
    "plt.title('Wiki page degree centrality')\n",
    "plt.xlim(1,)\n",
    "\n",
    "plt.subplot(122)\n",
    "plt.xscale('log')\n",
    "plt.yscale('log')\n",
    "plt.plot(np.array(pub_rank)[:,1])\n",
    "plt.xlabel('publication #')\n",
    "plt.ylabel('Degree centrality (bipartite)')\n",
    "plt.title('Publication degree centrality')\n",
    "plt.xlim(1,)"
   ]
  },
  {
   "cell_type": "markdown",
   "metadata": {},
   "source": [
    "Visualize bipartite graph (crashing - too big?)"
   ]
  },
  {
   "cell_type": "code",
   "execution_count": 12,
   "metadata": {
    "collapsed": true
   },
   "outputs": [],
   "source": [
    "#matrix = nx.bipartite.biadjacency_matrix(G, row_order=np.array(wpage_rank)[:,0], column_order=np.array(pub_rank)[:,0])"
   ]
  },
  {
   "cell_type": "markdown",
   "metadata": {},
   "source": [
    "Create subgraphs starting on web pages (articles, categories) to calculate bipartite degree centrality for publications within categories."
   ]
  },
  {
   "cell_type": "code",
   "execution_count": 15,
   "metadata": {
    "collapsed": true
   },
   "outputs": [],
   "source": [
    "def create_subgraph(G, node):\n",
    "    nodes = nx.single_source_shortest_path(G,node).keys()\n",
    "    return G.subgraph(nodes)"
   ]
  },
  {
   "cell_type": "code",
   "execution_count": null,
   "metadata": {
    "collapsed": true
   },
   "outputs": [],
   "source": []
  },
  {
   "cell_type": "markdown",
   "metadata": {},
   "source": [
    "Save graph as JSON"
   ]
  },
  {
   "cell_type": "code",
   "execution_count": 18,
   "metadata": {
    "collapsed": true
   },
   "outputs": [],
   "source": [
    "from networkx.readwrite import json_graph\n",
    "import json"
   ]
  },
  {
   "cell_type": "code",
   "execution_count": 33,
   "metadata": {
    "collapsed": true
   },
   "outputs": [],
   "source": [
    "def int64_to_int(o):\n",
    "    \"\"\"\n",
    "    Convert np.int64 to python int - otherwise json.dumps does not work\n",
    "    \"\"\"\n",
    "    if isinstance(o, np.int64): return int(o)  \n",
    "    raise TypeError\n",
    "\n",
    "json_string = json.dumps(json_graph.node_link_data(G), default=int64_to_int)"
   ]
  },
  {
   "cell_type": "code",
   "execution_count": 34,
   "metadata": {
    "collapsed": true
   },
   "outputs": [],
   "source": [
    "with open(os.path.join(processed_path, 'graph.json'), 'w') as fo:\n",
    "    json.dump(json_string, fo)"
   ]
  },
  {
   "cell_type": "code",
   "execution_count": 35,
   "metadata": {
    "collapsed": true
   },
   "outputs": [],
   "source": [
    "import wikipedia"
   ]
  },
  {
   "cell_type": "code",
   "execution_count": 38,
   "metadata": {
    "collapsed": true
   },
   "outputs": [],
   "source": [
    "test_page = wikipedia.page(top_page)"
   ]
  },
  {
   "cell_type": "code",
   "execution_count": 58,
   "metadata": {},
   "outputs": [
    {
     "data": {
      "text/plain": [
       "877"
      ]
     },
     "execution_count": 58,
     "metadata": {},
     "output_type": "execute_result"
    }
   ],
   "source": [
    "len(test_page.references)"
   ]
  },
  {
   "cell_type": "code",
   "execution_count": 59,
   "metadata": {},
   "outputs": [
    {
     "name": "stdout",
     "output_type": "stream",
     "text": [
      "52206193\n"
     ]
    }
   ],
   "source": [
    "print(test_page.pageid)"
   ]
  },
  {
   "cell_type": "code",
   "execution_count": 60,
   "metadata": {},
   "outputs": [
    {
     "name": "stdout",
     "output_type": "stream",
     "text": [
      "853568029\n"
     ]
    }
   ],
   "source": [
    "print(test_page.parent_id)"
   ]
  },
  {
   "cell_type": "code",
   "execution_count": 61,
   "metadata": {},
   "outputs": [
    {
     "name": "stdout",
     "output_type": "stream",
     "text": [
      "['2010s in paleontology', '2017 in paleontology', '2017 in science', 'CS1 maint: Uses authors parameter', 'Pages with DOIs inactive since 2017']\n"
     ]
    }
   ],
   "source": [
    "print(test_page.categories)"
   ]
  },
  {
   "cell_type": "code",
   "execution_count": 64,
   "metadata": {
    "collapsed": true
   },
   "outputs": [],
   "source": [
    "another_page = wikipedia.page('walnut')"
   ]
  },
  {
   "cell_type": "code",
   "execution_count": 68,
   "metadata": {},
   "outputs": [
    {
     "name": "stdout",
     "output_type": "stream",
     "text": [
      "['title', 'original_title', 'pageid', 'url', '_categories', '__module__', '__doc__', '__init__', '__repr__', '__eq__', '_WikipediaPage__load', '_WikipediaPage__continued_query', '_WikipediaPage__title_query_param', 'html', 'content', 'revision_id', 'parent_id', 'summary', 'images', 'coordinates', 'references', 'links', 'categories', 'sections', 'section', '__dict__', '__weakref__', '__hash__', '__str__', '__getattribute__', '__setattr__', '__delattr__', '__lt__', '__le__', '__ne__', '__gt__', '__ge__', '__new__', '__reduce_ex__', '__reduce__', '__subclasshook__', '__init_subclass__', '__format__', '__sizeof__', '__dir__', '__class__']\n"
     ]
    }
   ],
   "source": [
    "print(another_page.__dir__())"
   ]
  },
  {
   "cell_type": "code",
   "execution_count": 69,
   "metadata": {},
   "outputs": [
    {
     "data": {
      "text/plain": [
       "'https://en.wikipedia.org/wiki/Walnut'"
      ]
     },
     "execution_count": 69,
     "metadata": {},
     "output_type": "execute_result"
    }
   ],
   "source": [
    "another_page.url"
   ]
  },
  {
   "cell_type": "code",
   "execution_count": null,
   "metadata": {
    "collapsed": true
   },
   "outputs": [],
   "source": []
  }
 ],
 "metadata": {
  "kernelspec": {
   "display_name": "Python 3",
   "language": "python",
   "name": "python3"
  },
  "language_info": {
   "codemirror_mode": {
    "name": "ipython",
    "version": 3
   },
   "file_extension": ".py",
   "mimetype": "text/x-python",
   "name": "python",
   "nbconvert_exporter": "python",
   "pygments_lexer": "ipython3",
   "version": "3.6.1"
  }
 },
 "nbformat": 4,
 "nbformat_minor": 2
}
